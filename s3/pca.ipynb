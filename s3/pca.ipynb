{
 "cells": [
  {
   "cell_type": "code",
   "execution_count": 1,
   "id": "9a6c087d",
   "metadata": {},
   "outputs": [],
   "source": [
    "import numpy as np\n",
    "import pandas as pd\n",
    "from sklearn.decomposition import PCA\n",
    "from sklearn.preprocessing import LabelEncoder\n",
    "from sklearn.preprocessing import StandardScaler\n",
    "import datetime as dt\n",
    "import warnings\n",
    "warnings.filterwarnings('ignore')"
   ]
  },
  {
   "cell_type": "code",
   "execution_count": 2,
   "id": "4c181ab9",
   "metadata": {},
   "outputs": [
    {
     "data": {
      "text/plain": "       InvoiceNo StockCode                          Description  Quantity  \\\n0         536365    85123A   WHITE HANGING HEART T-LIGHT HOLDER         6   \n1         536365     71053                  WHITE METAL LANTERN         6   \n2         536365    84406B       CREAM CUPID HEARTS COAT HANGER         8   \n3         536365    84029G  KNITTED UNION FLAG HOT WATER BOTTLE         6   \n4         536365    84029E       RED WOOLLY HOTTIE WHITE HEART.         6   \n...          ...       ...                                  ...       ...   \n541904    581587     22613          PACK OF 20 SPACEBOY NAPKINS        12   \n541905    581587     22899         CHILDREN'S APRON DOLLY GIRL          6   \n541906    581587     23254        CHILDRENS CUTLERY DOLLY GIRL          4   \n541907    581587     23255      CHILDRENS CUTLERY CIRCUS PARADE         4   \n541908    581587     22138        BAKING SET 9 PIECE RETROSPOT          3   \n\n               InvoiceDate  UnitPrice  CustomerID         Country  \n0      2010-12-01 08:26:00       2.55     17850.0  United Kingdom  \n1      2010-12-01 08:26:00       3.39     17850.0  United Kingdom  \n2      2010-12-01 08:26:00       2.75     17850.0  United Kingdom  \n3      2010-12-01 08:26:00       3.39     17850.0  United Kingdom  \n4      2010-12-01 08:26:00       3.39     17850.0  United Kingdom  \n...                    ...        ...         ...             ...  \n541904 2011-12-09 12:50:00       0.85     12680.0          France  \n541905 2011-12-09 12:50:00       2.10     12680.0          France  \n541906 2011-12-09 12:50:00       4.15     12680.0          France  \n541907 2011-12-09 12:50:00       4.15     12680.0          France  \n541908 2011-12-09 12:50:00       4.95     12680.0          France  \n\n[541909 rows x 8 columns]",
      "text/html": "<div>\n<style scoped>\n    .dataframe tbody tr th:only-of-type {\n        vertical-align: middle;\n    }\n\n    .dataframe tbody tr th {\n        vertical-align: top;\n    }\n\n    .dataframe thead th {\n        text-align: right;\n    }\n</style>\n<table border=\"1\" class=\"dataframe\">\n  <thead>\n    <tr style=\"text-align: right;\">\n      <th></th>\n      <th>InvoiceNo</th>\n      <th>StockCode</th>\n      <th>Description</th>\n      <th>Quantity</th>\n      <th>InvoiceDate</th>\n      <th>UnitPrice</th>\n      <th>CustomerID</th>\n      <th>Country</th>\n    </tr>\n  </thead>\n  <tbody>\n    <tr>\n      <th>0</th>\n      <td>536365</td>\n      <td>85123A</td>\n      <td>WHITE HANGING HEART T-LIGHT HOLDER</td>\n      <td>6</td>\n      <td>2010-12-01 08:26:00</td>\n      <td>2.55</td>\n      <td>17850.0</td>\n      <td>United Kingdom</td>\n    </tr>\n    <tr>\n      <th>1</th>\n      <td>536365</td>\n      <td>71053</td>\n      <td>WHITE METAL LANTERN</td>\n      <td>6</td>\n      <td>2010-12-01 08:26:00</td>\n      <td>3.39</td>\n      <td>17850.0</td>\n      <td>United Kingdom</td>\n    </tr>\n    <tr>\n      <th>2</th>\n      <td>536365</td>\n      <td>84406B</td>\n      <td>CREAM CUPID HEARTS COAT HANGER</td>\n      <td>8</td>\n      <td>2010-12-01 08:26:00</td>\n      <td>2.75</td>\n      <td>17850.0</td>\n      <td>United Kingdom</td>\n    </tr>\n    <tr>\n      <th>3</th>\n      <td>536365</td>\n      <td>84029G</td>\n      <td>KNITTED UNION FLAG HOT WATER BOTTLE</td>\n      <td>6</td>\n      <td>2010-12-01 08:26:00</td>\n      <td>3.39</td>\n      <td>17850.0</td>\n      <td>United Kingdom</td>\n    </tr>\n    <tr>\n      <th>4</th>\n      <td>536365</td>\n      <td>84029E</td>\n      <td>RED WOOLLY HOTTIE WHITE HEART.</td>\n      <td>6</td>\n      <td>2010-12-01 08:26:00</td>\n      <td>3.39</td>\n      <td>17850.0</td>\n      <td>United Kingdom</td>\n    </tr>\n    <tr>\n      <th>...</th>\n      <td>...</td>\n      <td>...</td>\n      <td>...</td>\n      <td>...</td>\n      <td>...</td>\n      <td>...</td>\n      <td>...</td>\n      <td>...</td>\n    </tr>\n    <tr>\n      <th>541904</th>\n      <td>581587</td>\n      <td>22613</td>\n      <td>PACK OF 20 SPACEBOY NAPKINS</td>\n      <td>12</td>\n      <td>2011-12-09 12:50:00</td>\n      <td>0.85</td>\n      <td>12680.0</td>\n      <td>France</td>\n    </tr>\n    <tr>\n      <th>541905</th>\n      <td>581587</td>\n      <td>22899</td>\n      <td>CHILDREN'S APRON DOLLY GIRL</td>\n      <td>6</td>\n      <td>2011-12-09 12:50:00</td>\n      <td>2.10</td>\n      <td>12680.0</td>\n      <td>France</td>\n    </tr>\n    <tr>\n      <th>541906</th>\n      <td>581587</td>\n      <td>23254</td>\n      <td>CHILDRENS CUTLERY DOLLY GIRL</td>\n      <td>4</td>\n      <td>2011-12-09 12:50:00</td>\n      <td>4.15</td>\n      <td>12680.0</td>\n      <td>France</td>\n    </tr>\n    <tr>\n      <th>541907</th>\n      <td>581587</td>\n      <td>23255</td>\n      <td>CHILDRENS CUTLERY CIRCUS PARADE</td>\n      <td>4</td>\n      <td>2011-12-09 12:50:00</td>\n      <td>4.15</td>\n      <td>12680.0</td>\n      <td>France</td>\n    </tr>\n    <tr>\n      <th>541908</th>\n      <td>581587</td>\n      <td>22138</td>\n      <td>BAKING SET 9 PIECE RETROSPOT</td>\n      <td>3</td>\n      <td>2011-12-09 12:50:00</td>\n      <td>4.95</td>\n      <td>12680.0</td>\n      <td>France</td>\n    </tr>\n  </tbody>\n</table>\n<p>541909 rows × 8 columns</p>\n</div>"
     },
     "execution_count": 2,
     "metadata": {},
     "output_type": "execute_result"
    }
   ],
   "source": [
    "path = \"../s1/data/\"\n",
    "file_name = \"Online Retail.xlsx\"\n",
    "sheet_name = \"Online Retail\"\n",
    "df = pd.read_excel(path + file_name, sheet_name=sheet_name)\n",
    "df"
   ]
  },
  {
   "cell_type": "code",
   "execution_count": 10,
   "id": "69d30eee",
   "metadata": {},
   "outputs": [
    {
     "data": {
      "text/plain": "       StockCode  CustomerID         InvoiceDate         Country  UnitPrice  \\\n0         85123A     17850.0 2010-12-01 08:26:00  United Kingdom       2.55   \n1         85123A     17850.0 2010-12-01 09:02:00  United Kingdom       2.55   \n2         85123A     17850.0 2010-12-01 09:32:00  United Kingdom       2.55   \n3         85123A     17850.0 2010-12-01 10:51:00  United Kingdom       2.55   \n4         85123A     17850.0 2010-12-01 11:33:00  United Kingdom       2.55   \n...          ...         ...                 ...             ...        ...   \n397919     23561     14646.0 2011-12-07 15:16:00     Netherlands       2.49   \n397920     23561     12621.0 2011-12-08 11:25:00         Germany       2.89   \n397921     23561     17581.0 2011-12-09 12:20:00  United Kingdom       2.89   \n397922    90214U     13790.0 2011-12-05 15:48:00  United Kingdom       0.29   \n397923     23843     16446.0 2011-12-09 09:15:00  United Kingdom       2.08   \n\n        Quantity  OrderCount  count  \n0              6        2313     17  \n1              6        2313     17  \n2              6        2313     17  \n3              6        2313     17  \n4              8        2313     17  \n...          ...         ...    ...  \n397919        60          16      1  \n397920        12          16      1  \n397921         6          16      1  \n397922        12           1      1  \n397923     80995           2      1  \n\n[397924 rows x 8 columns]",
      "text/html": "<div>\n<style scoped>\n    .dataframe tbody tr th:only-of-type {\n        vertical-align: middle;\n    }\n\n    .dataframe tbody tr th {\n        vertical-align: top;\n    }\n\n    .dataframe thead th {\n        text-align: right;\n    }\n</style>\n<table border=\"1\" class=\"dataframe\">\n  <thead>\n    <tr style=\"text-align: right;\">\n      <th></th>\n      <th>StockCode</th>\n      <th>CustomerID</th>\n      <th>InvoiceDate</th>\n      <th>Country</th>\n      <th>UnitPrice</th>\n      <th>Quantity</th>\n      <th>OrderCount</th>\n      <th>count</th>\n    </tr>\n  </thead>\n  <tbody>\n    <tr>\n      <th>0</th>\n      <td>85123A</td>\n      <td>17850.0</td>\n      <td>2010-12-01 08:26:00</td>\n      <td>United Kingdom</td>\n      <td>2.55</td>\n      <td>6</td>\n      <td>2313</td>\n      <td>17</td>\n    </tr>\n    <tr>\n      <th>1</th>\n      <td>85123A</td>\n      <td>17850.0</td>\n      <td>2010-12-01 09:02:00</td>\n      <td>United Kingdom</td>\n      <td>2.55</td>\n      <td>6</td>\n      <td>2313</td>\n      <td>17</td>\n    </tr>\n    <tr>\n      <th>2</th>\n      <td>85123A</td>\n      <td>17850.0</td>\n      <td>2010-12-01 09:32:00</td>\n      <td>United Kingdom</td>\n      <td>2.55</td>\n      <td>6</td>\n      <td>2313</td>\n      <td>17</td>\n    </tr>\n    <tr>\n      <th>3</th>\n      <td>85123A</td>\n      <td>17850.0</td>\n      <td>2010-12-01 10:51:00</td>\n      <td>United Kingdom</td>\n      <td>2.55</td>\n      <td>6</td>\n      <td>2313</td>\n      <td>17</td>\n    </tr>\n    <tr>\n      <th>4</th>\n      <td>85123A</td>\n      <td>17850.0</td>\n      <td>2010-12-01 11:33:00</td>\n      <td>United Kingdom</td>\n      <td>2.55</td>\n      <td>8</td>\n      <td>2313</td>\n      <td>17</td>\n    </tr>\n    <tr>\n      <th>...</th>\n      <td>...</td>\n      <td>...</td>\n      <td>...</td>\n      <td>...</td>\n      <td>...</td>\n      <td>...</td>\n      <td>...</td>\n      <td>...</td>\n    </tr>\n    <tr>\n      <th>397919</th>\n      <td>23561</td>\n      <td>14646.0</td>\n      <td>2011-12-07 15:16:00</td>\n      <td>Netherlands</td>\n      <td>2.49</td>\n      <td>60</td>\n      <td>16</td>\n      <td>1</td>\n    </tr>\n    <tr>\n      <th>397920</th>\n      <td>23561</td>\n      <td>12621.0</td>\n      <td>2011-12-08 11:25:00</td>\n      <td>Germany</td>\n      <td>2.89</td>\n      <td>12</td>\n      <td>16</td>\n      <td>1</td>\n    </tr>\n    <tr>\n      <th>397921</th>\n      <td>23561</td>\n      <td>17581.0</td>\n      <td>2011-12-09 12:20:00</td>\n      <td>United Kingdom</td>\n      <td>2.89</td>\n      <td>6</td>\n      <td>16</td>\n      <td>1</td>\n    </tr>\n    <tr>\n      <th>397922</th>\n      <td>90214U</td>\n      <td>13790.0</td>\n      <td>2011-12-05 15:48:00</td>\n      <td>United Kingdom</td>\n      <td>0.29</td>\n      <td>12</td>\n      <td>1</td>\n      <td>1</td>\n    </tr>\n    <tr>\n      <th>397923</th>\n      <td>23843</td>\n      <td>16446.0</td>\n      <td>2011-12-09 09:15:00</td>\n      <td>United Kingdom</td>\n      <td>2.08</td>\n      <td>80995</td>\n      <td>2</td>\n      <td>1</td>\n    </tr>\n  </tbody>\n</table>\n<p>397924 rows × 8 columns</p>\n</div>"
     },
     "execution_count": 10,
     "metadata": {},
     "output_type": "execute_result"
    }
   ],
   "source": [
    "df = df[df.notna()]\n",
    "X = df[df[\"Quantity\"] > 0][[\"CustomerID\", \"StockCode\", \"InvoiceDate\", \"Country\", \"UnitPrice\", \"Quantity\"]]\n",
    "ids = df[\"StockCode\"]\n",
    "counts = pd.DataFrame(df[\"StockCode\"].value_counts())\n",
    "# X.insert(0, 'Reorder', 0)\n",
    "# X.loc[ids.isin(ids[ids.duplicated()]), \"Reorder\"] = 1\n",
    "X = pd.merge(X, counts, right_index=True, left_on=\"StockCode\").drop([\"StockCode_x\"], axis=1).rename(columns={'StockCode_y':'OrderCount'})\n",
    "\n",
    "groups = X.groupby('CustomerID', as_index=False)[\"StockCode\"].value_counts()\n",
    "X = pd.merge(X, groups, on=[\"CustomerID\", \"StockCode\"])\n",
    "\n",
    "X"
   ]
  },
  {
   "cell_type": "code",
   "execution_count": 11,
   "outputs": [
    {
     "data": {
      "text/plain": "        UnitPrice  Quantity  OrderCount  count  Hour 6  Hour 7  Hour 8  \\\n0            2.55         6        2313     17       0       0       1   \n1            2.55         6        2313     17       0       0       0   \n2            2.55         6        2313     17       0       0       0   \n3            2.55         6        2313     17       0       0       0   \n4            2.55         8        2313     17       0       0       0   \n...           ...       ...         ...    ...     ...     ...     ...   \n397919       2.49        60          16      1       0       0       0   \n397920       2.89        12          16      1       0       0       0   \n397921       2.89         6          16      1       0       0       0   \n397922       0.29        12           1      1       0       0       0   \n397923       2.08     80995           2      1       0       0       0   \n\n        Hour 9  Hour 10  Hour 11  ...  RSA  Saudi Arabia  Singapore  Spain  \\\n0            0        0        0  ...    0             0          0      0   \n1            1        0        0  ...    0             0          0      0   \n2            1        0        0  ...    0             0          0      0   \n3            0        1        0  ...    0             0          0      0   \n4            0        0        1  ...    0             0          0      0   \n...        ...      ...      ...  ...  ...           ...        ...    ...   \n397919       0        0        0  ...    0             0          0      0   \n397920       0        0        1  ...    0             0          0      0   \n397921       0        0        0  ...    0             0          0      0   \n397922       0        0        0  ...    0             0          0      0   \n397923       1        0        0  ...    0             0          0      0   \n\n        Sweden  Switzerland  USA  United Arab Emirates  United Kingdom  \\\n0            0            0    0                     0               1   \n1            0            0    0                     0               1   \n2            0            0    0                     0               1   \n3            0            0    0                     0               1   \n4            0            0    0                     0               1   \n...        ...          ...  ...                   ...             ...   \n397919       0            0    0                     0               0   \n397920       0            0    0                     0               0   \n397921       0            0    0                     0               1   \n397922       0            0    0                     0               1   \n397923       0            0    0                     0               1   \n\n        Product  \n0        3233.0  \n1        3233.0  \n2        3233.0  \n3        3233.0  \n4        3233.0  \n...         ...  \n397919      NaN  \n397920      NaN  \n397921      NaN  \n397922      NaN  \n397923      NaN  \n\n[397680 rows x 62 columns]",
      "text/html": "<div>\n<style scoped>\n    .dataframe tbody tr th:only-of-type {\n        vertical-align: middle;\n    }\n\n    .dataframe tbody tr th {\n        vertical-align: top;\n    }\n\n    .dataframe thead th {\n        text-align: right;\n    }\n</style>\n<table border=\"1\" class=\"dataframe\">\n  <thead>\n    <tr style=\"text-align: right;\">\n      <th></th>\n      <th>UnitPrice</th>\n      <th>Quantity</th>\n      <th>OrderCount</th>\n      <th>count</th>\n      <th>Hour 6</th>\n      <th>Hour 7</th>\n      <th>Hour 8</th>\n      <th>Hour 9</th>\n      <th>Hour 10</th>\n      <th>Hour 11</th>\n      <th>...</th>\n      <th>RSA</th>\n      <th>Saudi Arabia</th>\n      <th>Singapore</th>\n      <th>Spain</th>\n      <th>Sweden</th>\n      <th>Switzerland</th>\n      <th>USA</th>\n      <th>United Arab Emirates</th>\n      <th>United Kingdom</th>\n      <th>Product</th>\n    </tr>\n  </thead>\n  <tbody>\n    <tr>\n      <th>0</th>\n      <td>2.55</td>\n      <td>6</td>\n      <td>2313</td>\n      <td>17</td>\n      <td>0</td>\n      <td>0</td>\n      <td>1</td>\n      <td>0</td>\n      <td>0</td>\n      <td>0</td>\n      <td>...</td>\n      <td>0</td>\n      <td>0</td>\n      <td>0</td>\n      <td>0</td>\n      <td>0</td>\n      <td>0</td>\n      <td>0</td>\n      <td>0</td>\n      <td>1</td>\n      <td>3233.0</td>\n    </tr>\n    <tr>\n      <th>1</th>\n      <td>2.55</td>\n      <td>6</td>\n      <td>2313</td>\n      <td>17</td>\n      <td>0</td>\n      <td>0</td>\n      <td>0</td>\n      <td>1</td>\n      <td>0</td>\n      <td>0</td>\n      <td>...</td>\n      <td>0</td>\n      <td>0</td>\n      <td>0</td>\n      <td>0</td>\n      <td>0</td>\n      <td>0</td>\n      <td>0</td>\n      <td>0</td>\n      <td>1</td>\n      <td>3233.0</td>\n    </tr>\n    <tr>\n      <th>2</th>\n      <td>2.55</td>\n      <td>6</td>\n      <td>2313</td>\n      <td>17</td>\n      <td>0</td>\n      <td>0</td>\n      <td>0</td>\n      <td>1</td>\n      <td>0</td>\n      <td>0</td>\n      <td>...</td>\n      <td>0</td>\n      <td>0</td>\n      <td>0</td>\n      <td>0</td>\n      <td>0</td>\n      <td>0</td>\n      <td>0</td>\n      <td>0</td>\n      <td>1</td>\n      <td>3233.0</td>\n    </tr>\n    <tr>\n      <th>3</th>\n      <td>2.55</td>\n      <td>6</td>\n      <td>2313</td>\n      <td>17</td>\n      <td>0</td>\n      <td>0</td>\n      <td>0</td>\n      <td>0</td>\n      <td>1</td>\n      <td>0</td>\n      <td>...</td>\n      <td>0</td>\n      <td>0</td>\n      <td>0</td>\n      <td>0</td>\n      <td>0</td>\n      <td>0</td>\n      <td>0</td>\n      <td>0</td>\n      <td>1</td>\n      <td>3233.0</td>\n    </tr>\n    <tr>\n      <th>4</th>\n      <td>2.55</td>\n      <td>8</td>\n      <td>2313</td>\n      <td>17</td>\n      <td>0</td>\n      <td>0</td>\n      <td>0</td>\n      <td>0</td>\n      <td>0</td>\n      <td>1</td>\n      <td>...</td>\n      <td>0</td>\n      <td>0</td>\n      <td>0</td>\n      <td>0</td>\n      <td>0</td>\n      <td>0</td>\n      <td>0</td>\n      <td>0</td>\n      <td>1</td>\n      <td>3233.0</td>\n    </tr>\n    <tr>\n      <th>...</th>\n      <td>...</td>\n      <td>...</td>\n      <td>...</td>\n      <td>...</td>\n      <td>...</td>\n      <td>...</td>\n      <td>...</td>\n      <td>...</td>\n      <td>...</td>\n      <td>...</td>\n      <td>...</td>\n      <td>...</td>\n      <td>...</td>\n      <td>...</td>\n      <td>...</td>\n      <td>...</td>\n      <td>...</td>\n      <td>...</td>\n      <td>...</td>\n      <td>...</td>\n      <td>...</td>\n    </tr>\n    <tr>\n      <th>397919</th>\n      <td>2.49</td>\n      <td>60</td>\n      <td>16</td>\n      <td>1</td>\n      <td>0</td>\n      <td>0</td>\n      <td>0</td>\n      <td>0</td>\n      <td>0</td>\n      <td>0</td>\n      <td>...</td>\n      <td>0</td>\n      <td>0</td>\n      <td>0</td>\n      <td>0</td>\n      <td>0</td>\n      <td>0</td>\n      <td>0</td>\n      <td>0</td>\n      <td>0</td>\n      <td>NaN</td>\n    </tr>\n    <tr>\n      <th>397920</th>\n      <td>2.89</td>\n      <td>12</td>\n      <td>16</td>\n      <td>1</td>\n      <td>0</td>\n      <td>0</td>\n      <td>0</td>\n      <td>0</td>\n      <td>0</td>\n      <td>1</td>\n      <td>...</td>\n      <td>0</td>\n      <td>0</td>\n      <td>0</td>\n      <td>0</td>\n      <td>0</td>\n      <td>0</td>\n      <td>0</td>\n      <td>0</td>\n      <td>0</td>\n      <td>NaN</td>\n    </tr>\n    <tr>\n      <th>397921</th>\n      <td>2.89</td>\n      <td>6</td>\n      <td>16</td>\n      <td>1</td>\n      <td>0</td>\n      <td>0</td>\n      <td>0</td>\n      <td>0</td>\n      <td>0</td>\n      <td>0</td>\n      <td>...</td>\n      <td>0</td>\n      <td>0</td>\n      <td>0</td>\n      <td>0</td>\n      <td>0</td>\n      <td>0</td>\n      <td>0</td>\n      <td>0</td>\n      <td>1</td>\n      <td>NaN</td>\n    </tr>\n    <tr>\n      <th>397922</th>\n      <td>0.29</td>\n      <td>12</td>\n      <td>1</td>\n      <td>1</td>\n      <td>0</td>\n      <td>0</td>\n      <td>0</td>\n      <td>0</td>\n      <td>0</td>\n      <td>0</td>\n      <td>...</td>\n      <td>0</td>\n      <td>0</td>\n      <td>0</td>\n      <td>0</td>\n      <td>0</td>\n      <td>0</td>\n      <td>0</td>\n      <td>0</td>\n      <td>1</td>\n      <td>NaN</td>\n    </tr>\n    <tr>\n      <th>397923</th>\n      <td>2.08</td>\n      <td>80995</td>\n      <td>2</td>\n      <td>1</td>\n      <td>0</td>\n      <td>0</td>\n      <td>0</td>\n      <td>1</td>\n      <td>0</td>\n      <td>0</td>\n      <td>...</td>\n      <td>0</td>\n      <td>0</td>\n      <td>0</td>\n      <td>0</td>\n      <td>0</td>\n      <td>0</td>\n      <td>0</td>\n      <td>0</td>\n      <td>1</td>\n      <td>NaN</td>\n    </tr>\n  </tbody>\n</table>\n<p>397680 rows × 62 columns</p>\n</div>"
     },
     "execution_count": 11,
     "metadata": {},
     "output_type": "execute_result"
    }
   ],
   "source": [
    "X['Time'] = pd.to_datetime(X['InvoiceDate']).dt.hour\n",
    "X[\"DayOfTheWeek\"] = X[\"InvoiceDate\"].dt.day_name()\n",
    "\n",
    "times = pd.get_dummies(X[\"Time\"], dummy_na=False)\n",
    "timesColumns={i: \"Hour \" + str(i) for i in range(6,21)}#6-20\n",
    "times = times.rename(columns=timesColumns)\n",
    "X = X.drop('Time', axis = 1, errors='ignore')\n",
    "# Join the encoded df\n",
    "X = X.join(times)\n",
    "\n",
    "days = pd.get_dummies(X[\"DayOfTheWeek\"], dummy_na=False)\n",
    "X = X.drop('DayOfTheWeek', axis = 1, errors='ignore')\n",
    "# Join the encoded df\n",
    "X = X.join(days)\n",
    "\n",
    "X = X.drop([\"InvoiceDate\"], axis=1)\n",
    "\n",
    "countries = pd.get_dummies(X[\"Country\"], dummy_na=False)\n",
    "X = X.drop('Country', axis = 1, errors='ignore')\n",
    "# Join the encoded df\n",
    "X = X.join(countries)\n",
    "X = X[X[\"Unspecified\"]==0]\n",
    "X = X.drop([\"Unspecified\"], axis=1)\n",
    "\n",
    "# customers = pd.get_dummies(X[\"CustomerID\"], dummy_na=False)\n",
    "X = X.drop('CustomerID', axis = 1, errors='ignore')\n",
    "# Join the encoded df\n",
    "# X = X.join(customers)\n",
    "\n",
    "le_product = LabelEncoder()\n",
    "products = le_product.fit_transform(X[\"StockCode\"].apply(str))\n",
    "# products = pd.get_dummies(X[\"StockCode\"], dummy_na=False)\n",
    "X = X.drop('StockCode', axis = 1, errors='ignore')\n",
    "# # Join the encoded df\n",
    "X = X.join(pd.DataFrame(products, columns=[\"Product\"]))\n",
    "\n",
    "le_product_mapping = dict(zip(le_product.transform(le_product.classes_), le_product.classes_))\n",
    "\n",
    "X"
   ],
   "metadata": {
    "collapsed": false,
    "pycharm": {
     "name": "#%%\n"
    }
   }
  },
  {
   "cell_type": "code",
   "execution_count": 12,
   "outputs": [
    {
     "data": {
      "text/plain": "array([[-2.56124838e-02, -3.89267714e-02,  4.57802192e+00,\n         3.58577168e+00],\n       [-2.56124838e-02, -3.89267714e-02,  4.57802192e+00,\n         3.58577168e+00],\n       [-2.56124838e-02, -3.89267714e-02,  4.57802192e+00,\n         3.58577168e+00],\n       ...,\n       [-1.02302233e-02, -3.89267714e-02, -1.07558500e+00,\n        -4.50885971e-01],\n       [-1.27859275e-01, -5.68119439e-03, -1.11250451e+00,\n        -4.50885971e-01],\n       [-4.68761970e-02,  4.48715413e+02, -1.11004321e+00,\n        -4.50885971e-01]])"
     },
     "execution_count": 12,
     "metadata": {},
     "output_type": "execute_result"
    }
   ],
   "source": [
    "scaled = StandardScaler().fit(X[[\"UnitPrice\", \"Quantity\", \"OrderCount\", \"count\"]]).transform(X[[\"UnitPrice\", \"Quantity\", \"OrderCount\", \"count\"]])\n",
    "scaled"
   ],
   "metadata": {
    "collapsed": false,
    "pycharm": {
     "name": "#%%\n"
    }
   }
  },
  {
   "cell_type": "code",
   "execution_count": 13,
   "outputs": [
    {
     "data": {
      "text/plain": "array([[ 5.74084018e+00,  1.40340545e-01, -6.01566655e-01],\n       [ 5.74084018e+00,  1.40340545e-01, -6.01566655e-01],\n       [ 5.74084018e+00,  1.40340545e-01, -6.01566655e-01],\n       ...,\n       [-1.07633192e+00, -5.20843869e-02,  7.88393132e-02],\n       [-1.11099834e+00,  5.05400395e-02,  1.74502684e-02],\n       [ 1.83756992e+01,  3.33114533e+02,  3.00015644e+02]])"
     },
     "execution_count": 13,
     "metadata": {},
     "output_type": "execute_result"
    }
   ],
   "source": [
    "pca = PCA(n_components=3)\n",
    "X_pca = pca.fit_transform(scaled)\n",
    "X_pca"
   ],
   "metadata": {
    "collapsed": false,
    "pycharm": {
     "name": "#%%\n"
    }
   }
  },
  {
   "cell_type": "code",
   "execution_count": 14,
   "id": "91f0e3f7",
   "metadata": {},
   "outputs": [
    {
     "data": {
      "text/plain": "        Hour 6  Hour 7  Hour 8  Hour 9  Hour 10  Hour 11  Hour 12  Hour 13  \\\n0            0       0       1       0        0        0        0        0   \n1            0       0       0       1        0        0        0        0   \n2            0       0       0       1        0        0        0        0   \n3            0       0       0       0        1        0        0        0   \n4            0       0       0       0        0        1        0        0   \n...        ...     ...     ...     ...      ...      ...      ...      ...   \n397675       0       0       0       0        0        0        1        0   \n397676       0       0       0       0        1        0        0        0   \n397677       0       0       0       0        1        0        0        0   \n397678       0       0       0       0        0        0        1        0   \n397679       0       0       0       0        0        0        1        0   \n\n        Hour 14  Hour 15  ...  Spain  Sweden  Switzerland  USA  \\\n0             0        0  ...      0       0            0    0   \n1             0        0  ...      0       0            0    0   \n2             0        0  ...      0       0            0    0   \n3             0        0  ...      0       0            0    0   \n4             0        0  ...      0       0            0    0   \n...         ...      ...  ...    ...     ...          ...  ...   \n397675        0        0  ...      0       0            0    0   \n397676        0        0  ...      0       0            0    0   \n397677        0        0  ...      0       0            0    0   \n397678        0        0  ...      0       0            0    0   \n397679        0        0  ...      0       0            0    0   \n\n        United Arab Emirates  United Kingdom  Product  Component1  Component2  \\\n0                          0               1   3233.0    5.740840    0.140341   \n1                          0               1   3233.0    5.740840    0.140341   \n2                          0               1   3233.0    5.740840    0.140341   \n3                          0               1   3233.0    5.740840    0.140341   \n4                          0               1   3233.0    5.741321    0.148567   \n...                      ...             ...      ...         ...         ...   \n397675                     0               1   2367.0   -1.064907    0.182156   \n397676                     0               1   2367.0   -1.074889   -0.027404   \n397677                     0               1   2367.0   -1.076332   -0.052084   \n397678                     0               1   3654.0   -1.110998    0.050540   \n397679                     0               1   2399.0   18.375699  333.114533   \n\n        Component3  \n0        -0.601567  \n1        -0.601567  \n2        -0.601567  \n3        -0.601567  \n4        -0.594159  \n...            ...  \n397675    0.265495  \n397676    0.101062  \n397677    0.078839  \n397678    0.017450  \n397679  300.015644  \n\n[397436 rows x 61 columns]",
      "text/html": "<div>\n<style scoped>\n    .dataframe tbody tr th:only-of-type {\n        vertical-align: middle;\n    }\n\n    .dataframe tbody tr th {\n        vertical-align: top;\n    }\n\n    .dataframe thead th {\n        text-align: right;\n    }\n</style>\n<table border=\"1\" class=\"dataframe\">\n  <thead>\n    <tr style=\"text-align: right;\">\n      <th></th>\n      <th>Hour 6</th>\n      <th>Hour 7</th>\n      <th>Hour 8</th>\n      <th>Hour 9</th>\n      <th>Hour 10</th>\n      <th>Hour 11</th>\n      <th>Hour 12</th>\n      <th>Hour 13</th>\n      <th>Hour 14</th>\n      <th>Hour 15</th>\n      <th>...</th>\n      <th>Spain</th>\n      <th>Sweden</th>\n      <th>Switzerland</th>\n      <th>USA</th>\n      <th>United Arab Emirates</th>\n      <th>United Kingdom</th>\n      <th>Product</th>\n      <th>Component1</th>\n      <th>Component2</th>\n      <th>Component3</th>\n    </tr>\n  </thead>\n  <tbody>\n    <tr>\n      <th>0</th>\n      <td>0</td>\n      <td>0</td>\n      <td>1</td>\n      <td>0</td>\n      <td>0</td>\n      <td>0</td>\n      <td>0</td>\n      <td>0</td>\n      <td>0</td>\n      <td>0</td>\n      <td>...</td>\n      <td>0</td>\n      <td>0</td>\n      <td>0</td>\n      <td>0</td>\n      <td>0</td>\n      <td>1</td>\n      <td>3233.0</td>\n      <td>5.740840</td>\n      <td>0.140341</td>\n      <td>-0.601567</td>\n    </tr>\n    <tr>\n      <th>1</th>\n      <td>0</td>\n      <td>0</td>\n      <td>0</td>\n      <td>1</td>\n      <td>0</td>\n      <td>0</td>\n      <td>0</td>\n      <td>0</td>\n      <td>0</td>\n      <td>0</td>\n      <td>...</td>\n      <td>0</td>\n      <td>0</td>\n      <td>0</td>\n      <td>0</td>\n      <td>0</td>\n      <td>1</td>\n      <td>3233.0</td>\n      <td>5.740840</td>\n      <td>0.140341</td>\n      <td>-0.601567</td>\n    </tr>\n    <tr>\n      <th>2</th>\n      <td>0</td>\n      <td>0</td>\n      <td>0</td>\n      <td>1</td>\n      <td>0</td>\n      <td>0</td>\n      <td>0</td>\n      <td>0</td>\n      <td>0</td>\n      <td>0</td>\n      <td>...</td>\n      <td>0</td>\n      <td>0</td>\n      <td>0</td>\n      <td>0</td>\n      <td>0</td>\n      <td>1</td>\n      <td>3233.0</td>\n      <td>5.740840</td>\n      <td>0.140341</td>\n      <td>-0.601567</td>\n    </tr>\n    <tr>\n      <th>3</th>\n      <td>0</td>\n      <td>0</td>\n      <td>0</td>\n      <td>0</td>\n      <td>1</td>\n      <td>0</td>\n      <td>0</td>\n      <td>0</td>\n      <td>0</td>\n      <td>0</td>\n      <td>...</td>\n      <td>0</td>\n      <td>0</td>\n      <td>0</td>\n      <td>0</td>\n      <td>0</td>\n      <td>1</td>\n      <td>3233.0</td>\n      <td>5.740840</td>\n      <td>0.140341</td>\n      <td>-0.601567</td>\n    </tr>\n    <tr>\n      <th>4</th>\n      <td>0</td>\n      <td>0</td>\n      <td>0</td>\n      <td>0</td>\n      <td>0</td>\n      <td>1</td>\n      <td>0</td>\n      <td>0</td>\n      <td>0</td>\n      <td>0</td>\n      <td>...</td>\n      <td>0</td>\n      <td>0</td>\n      <td>0</td>\n      <td>0</td>\n      <td>0</td>\n      <td>1</td>\n      <td>3233.0</td>\n      <td>5.741321</td>\n      <td>0.148567</td>\n      <td>-0.594159</td>\n    </tr>\n    <tr>\n      <th>...</th>\n      <td>...</td>\n      <td>...</td>\n      <td>...</td>\n      <td>...</td>\n      <td>...</td>\n      <td>...</td>\n      <td>...</td>\n      <td>...</td>\n      <td>...</td>\n      <td>...</td>\n      <td>...</td>\n      <td>...</td>\n      <td>...</td>\n      <td>...</td>\n      <td>...</td>\n      <td>...</td>\n      <td>...</td>\n      <td>...</td>\n      <td>...</td>\n      <td>...</td>\n      <td>...</td>\n    </tr>\n    <tr>\n      <th>397675</th>\n      <td>0</td>\n      <td>0</td>\n      <td>0</td>\n      <td>0</td>\n      <td>0</td>\n      <td>0</td>\n      <td>1</td>\n      <td>0</td>\n      <td>0</td>\n      <td>0</td>\n      <td>...</td>\n      <td>0</td>\n      <td>0</td>\n      <td>0</td>\n      <td>0</td>\n      <td>0</td>\n      <td>1</td>\n      <td>2367.0</td>\n      <td>-1.064907</td>\n      <td>0.182156</td>\n      <td>0.265495</td>\n    </tr>\n    <tr>\n      <th>397676</th>\n      <td>0</td>\n      <td>0</td>\n      <td>0</td>\n      <td>0</td>\n      <td>1</td>\n      <td>0</td>\n      <td>0</td>\n      <td>0</td>\n      <td>0</td>\n      <td>0</td>\n      <td>...</td>\n      <td>0</td>\n      <td>0</td>\n      <td>0</td>\n      <td>0</td>\n      <td>0</td>\n      <td>1</td>\n      <td>2367.0</td>\n      <td>-1.074889</td>\n      <td>-0.027404</td>\n      <td>0.101062</td>\n    </tr>\n    <tr>\n      <th>397677</th>\n      <td>0</td>\n      <td>0</td>\n      <td>0</td>\n      <td>0</td>\n      <td>1</td>\n      <td>0</td>\n      <td>0</td>\n      <td>0</td>\n      <td>0</td>\n      <td>0</td>\n      <td>...</td>\n      <td>0</td>\n      <td>0</td>\n      <td>0</td>\n      <td>0</td>\n      <td>0</td>\n      <td>1</td>\n      <td>2367.0</td>\n      <td>-1.076332</td>\n      <td>-0.052084</td>\n      <td>0.078839</td>\n    </tr>\n    <tr>\n      <th>397678</th>\n      <td>0</td>\n      <td>0</td>\n      <td>0</td>\n      <td>0</td>\n      <td>0</td>\n      <td>0</td>\n      <td>1</td>\n      <td>0</td>\n      <td>0</td>\n      <td>0</td>\n      <td>...</td>\n      <td>0</td>\n      <td>0</td>\n      <td>0</td>\n      <td>0</td>\n      <td>0</td>\n      <td>1</td>\n      <td>3654.0</td>\n      <td>-1.110998</td>\n      <td>0.050540</td>\n      <td>0.017450</td>\n    </tr>\n    <tr>\n      <th>397679</th>\n      <td>0</td>\n      <td>0</td>\n      <td>0</td>\n      <td>0</td>\n      <td>0</td>\n      <td>0</td>\n      <td>1</td>\n      <td>0</td>\n      <td>0</td>\n      <td>0</td>\n      <td>...</td>\n      <td>0</td>\n      <td>0</td>\n      <td>0</td>\n      <td>0</td>\n      <td>0</td>\n      <td>1</td>\n      <td>2399.0</td>\n      <td>18.375699</td>\n      <td>333.114533</td>\n      <td>300.015644</td>\n    </tr>\n  </tbody>\n</table>\n<p>397436 rows × 61 columns</p>\n</div>"
     },
     "execution_count": 14,
     "metadata": {},
     "output_type": "execute_result"
    }
   ],
   "source": [
    "X = pd.concat([X.drop([\"UnitPrice\", \"Quantity\", \"OrderCount\", \"count\"], axis=1), pd.DataFrame(X_pca, columns=[\"Component1\", \"Component2\", \"Component3\"])], axis=1, join=\"inner\")\n",
    "X"
   ]
  },
  {
   "cell_type": "code",
   "execution_count": 15,
   "outputs": [],
   "source": [
    "X.to_csv(\"preprocessed.xlsx\", index=False)"
   ],
   "metadata": {
    "collapsed": false,
    "pycharm": {
     "name": "#%%\n"
    }
   }
  },
  {
   "cell_type": "code",
   "execution_count": 7,
   "outputs": [
    {
     "data": {
      "text/plain": "        Hour 6  Hour 7  Hour 8  Hour 9  Hour 10  Hour 11  Hour 12  Hour 13  \\\n0            0       0       1       0        0        0        0        0   \n1            0       0       0       1        0        0        0        0   \n2            0       0       0       1        0        0        0        0   \n3            0       0       0       0        1        0        0        0   \n4            0       0       0       0        0        1        0        0   \n...        ...     ...     ...     ...      ...      ...      ...      ...   \n397431       0       0       0       0        0        0        1        0   \n397432       0       0       0       0        1        0        0        0   \n397433       0       0       0       0        1        0        0        0   \n397434       0       0       0       0        0        0        1        0   \n397435       0       0       0       0        0        0        1        0   \n\n        Hour 14  Hour 15  ...  Spain  Sweden  Switzerland  USA  \\\n0             0        0  ...      0       0            0    0   \n1             0        0  ...      0       0            0    0   \n2             0        0  ...      0       0            0    0   \n3             0        0  ...      0       0            0    0   \n4             0        0  ...      0       0            0    0   \n...         ...      ...  ...    ...     ...          ...  ...   \n397431        0        0  ...      0       0            0    0   \n397432        0        0  ...      0       0            0    0   \n397433        0        0  ...      0       0            0    0   \n397434        0        0  ...      0       0            0    0   \n397435        0        0  ...      0       0            0    0   \n\n        United Arab Emirates  United Kingdom  Product  Component1  Component2  \\\n0                          0               1   3233.0    5.740840    0.140341   \n1                          0               1   3233.0    5.740840    0.140341   \n2                          0               1   3233.0    5.740840    0.140341   \n3                          0               1   3233.0    5.740840    0.140341   \n4                          0               1   3233.0    5.741321    0.148567   \n...                      ...             ...      ...         ...         ...   \n397431                     0               1   2367.0   -1.064907    0.182156   \n397432                     0               1   2367.0   -1.074889   -0.027404   \n397433                     0               1   2367.0   -1.076332   -0.052084   \n397434                     0               1   3654.0   -1.110998    0.050540   \n397435                     0               1   2399.0   18.375699  333.114533   \n\n        Component3  \n0        -0.601567  \n1        -0.601567  \n2        -0.601567  \n3        -0.601567  \n4        -0.594159  \n...            ...  \n397431    0.265495  \n397432    0.101062  \n397433    0.078839  \n397434    0.017450  \n397435  300.015644  \n\n[397436 rows x 61 columns]",
      "text/html": "<div>\n<style scoped>\n    .dataframe tbody tr th:only-of-type {\n        vertical-align: middle;\n    }\n\n    .dataframe tbody tr th {\n        vertical-align: top;\n    }\n\n    .dataframe thead th {\n        text-align: right;\n    }\n</style>\n<table border=\"1\" class=\"dataframe\">\n  <thead>\n    <tr style=\"text-align: right;\">\n      <th></th>\n      <th>Hour 6</th>\n      <th>Hour 7</th>\n      <th>Hour 8</th>\n      <th>Hour 9</th>\n      <th>Hour 10</th>\n      <th>Hour 11</th>\n      <th>Hour 12</th>\n      <th>Hour 13</th>\n      <th>Hour 14</th>\n      <th>Hour 15</th>\n      <th>...</th>\n      <th>Spain</th>\n      <th>Sweden</th>\n      <th>Switzerland</th>\n      <th>USA</th>\n      <th>United Arab Emirates</th>\n      <th>United Kingdom</th>\n      <th>Product</th>\n      <th>Component1</th>\n      <th>Component2</th>\n      <th>Component3</th>\n    </tr>\n  </thead>\n  <tbody>\n    <tr>\n      <th>0</th>\n      <td>0</td>\n      <td>0</td>\n      <td>1</td>\n      <td>0</td>\n      <td>0</td>\n      <td>0</td>\n      <td>0</td>\n      <td>0</td>\n      <td>0</td>\n      <td>0</td>\n      <td>...</td>\n      <td>0</td>\n      <td>0</td>\n      <td>0</td>\n      <td>0</td>\n      <td>0</td>\n      <td>1</td>\n      <td>3233.0</td>\n      <td>5.740840</td>\n      <td>0.140341</td>\n      <td>-0.601567</td>\n    </tr>\n    <tr>\n      <th>1</th>\n      <td>0</td>\n      <td>0</td>\n      <td>0</td>\n      <td>1</td>\n      <td>0</td>\n      <td>0</td>\n      <td>0</td>\n      <td>0</td>\n      <td>0</td>\n      <td>0</td>\n      <td>...</td>\n      <td>0</td>\n      <td>0</td>\n      <td>0</td>\n      <td>0</td>\n      <td>0</td>\n      <td>1</td>\n      <td>3233.0</td>\n      <td>5.740840</td>\n      <td>0.140341</td>\n      <td>-0.601567</td>\n    </tr>\n    <tr>\n      <th>2</th>\n      <td>0</td>\n      <td>0</td>\n      <td>0</td>\n      <td>1</td>\n      <td>0</td>\n      <td>0</td>\n      <td>0</td>\n      <td>0</td>\n      <td>0</td>\n      <td>0</td>\n      <td>...</td>\n      <td>0</td>\n      <td>0</td>\n      <td>0</td>\n      <td>0</td>\n      <td>0</td>\n      <td>1</td>\n      <td>3233.0</td>\n      <td>5.740840</td>\n      <td>0.140341</td>\n      <td>-0.601567</td>\n    </tr>\n    <tr>\n      <th>3</th>\n      <td>0</td>\n      <td>0</td>\n      <td>0</td>\n      <td>0</td>\n      <td>1</td>\n      <td>0</td>\n      <td>0</td>\n      <td>0</td>\n      <td>0</td>\n      <td>0</td>\n      <td>...</td>\n      <td>0</td>\n      <td>0</td>\n      <td>0</td>\n      <td>0</td>\n      <td>0</td>\n      <td>1</td>\n      <td>3233.0</td>\n      <td>5.740840</td>\n      <td>0.140341</td>\n      <td>-0.601567</td>\n    </tr>\n    <tr>\n      <th>4</th>\n      <td>0</td>\n      <td>0</td>\n      <td>0</td>\n      <td>0</td>\n      <td>0</td>\n      <td>1</td>\n      <td>0</td>\n      <td>0</td>\n      <td>0</td>\n      <td>0</td>\n      <td>...</td>\n      <td>0</td>\n      <td>0</td>\n      <td>0</td>\n      <td>0</td>\n      <td>0</td>\n      <td>1</td>\n      <td>3233.0</td>\n      <td>5.741321</td>\n      <td>0.148567</td>\n      <td>-0.594159</td>\n    </tr>\n    <tr>\n      <th>...</th>\n      <td>...</td>\n      <td>...</td>\n      <td>...</td>\n      <td>...</td>\n      <td>...</td>\n      <td>...</td>\n      <td>...</td>\n      <td>...</td>\n      <td>...</td>\n      <td>...</td>\n      <td>...</td>\n      <td>...</td>\n      <td>...</td>\n      <td>...</td>\n      <td>...</td>\n      <td>...</td>\n      <td>...</td>\n      <td>...</td>\n      <td>...</td>\n      <td>...</td>\n      <td>...</td>\n    </tr>\n    <tr>\n      <th>397431</th>\n      <td>0</td>\n      <td>0</td>\n      <td>0</td>\n      <td>0</td>\n      <td>0</td>\n      <td>0</td>\n      <td>1</td>\n      <td>0</td>\n      <td>0</td>\n      <td>0</td>\n      <td>...</td>\n      <td>0</td>\n      <td>0</td>\n      <td>0</td>\n      <td>0</td>\n      <td>0</td>\n      <td>1</td>\n      <td>2367.0</td>\n      <td>-1.064907</td>\n      <td>0.182156</td>\n      <td>0.265495</td>\n    </tr>\n    <tr>\n      <th>397432</th>\n      <td>0</td>\n      <td>0</td>\n      <td>0</td>\n      <td>0</td>\n      <td>1</td>\n      <td>0</td>\n      <td>0</td>\n      <td>0</td>\n      <td>0</td>\n      <td>0</td>\n      <td>...</td>\n      <td>0</td>\n      <td>0</td>\n      <td>0</td>\n      <td>0</td>\n      <td>0</td>\n      <td>1</td>\n      <td>2367.0</td>\n      <td>-1.074889</td>\n      <td>-0.027404</td>\n      <td>0.101062</td>\n    </tr>\n    <tr>\n      <th>397433</th>\n      <td>0</td>\n      <td>0</td>\n      <td>0</td>\n      <td>0</td>\n      <td>1</td>\n      <td>0</td>\n      <td>0</td>\n      <td>0</td>\n      <td>0</td>\n      <td>0</td>\n      <td>...</td>\n      <td>0</td>\n      <td>0</td>\n      <td>0</td>\n      <td>0</td>\n      <td>0</td>\n      <td>1</td>\n      <td>2367.0</td>\n      <td>-1.076332</td>\n      <td>-0.052084</td>\n      <td>0.078839</td>\n    </tr>\n    <tr>\n      <th>397434</th>\n      <td>0</td>\n      <td>0</td>\n      <td>0</td>\n      <td>0</td>\n      <td>0</td>\n      <td>0</td>\n      <td>1</td>\n      <td>0</td>\n      <td>0</td>\n      <td>0</td>\n      <td>...</td>\n      <td>0</td>\n      <td>0</td>\n      <td>0</td>\n      <td>0</td>\n      <td>0</td>\n      <td>1</td>\n      <td>3654.0</td>\n      <td>-1.110998</td>\n      <td>0.050540</td>\n      <td>0.017450</td>\n    </tr>\n    <tr>\n      <th>397435</th>\n      <td>0</td>\n      <td>0</td>\n      <td>0</td>\n      <td>0</td>\n      <td>0</td>\n      <td>0</td>\n      <td>1</td>\n      <td>0</td>\n      <td>0</td>\n      <td>0</td>\n      <td>...</td>\n      <td>0</td>\n      <td>0</td>\n      <td>0</td>\n      <td>0</td>\n      <td>0</td>\n      <td>1</td>\n      <td>2399.0</td>\n      <td>18.375699</td>\n      <td>333.114533</td>\n      <td>300.015644</td>\n    </tr>\n  </tbody>\n</table>\n<p>397436 rows × 61 columns</p>\n</div>"
     },
     "execution_count": 7,
     "metadata": {},
     "output_type": "execute_result"
    }
   ],
   "source": [
    "from sklearn.ensemble import GradientBoostingClassifier\n",
    "from sklearn.linear_model import LogisticRegression\n",
    "from sklearn.ensemble import RandomForestClassifier\n",
    "from sklearn.model_selection import train_test_split\n",
    "from sklearn.metrics import accuracy_score\n",
    "from sklearn.tree import DecisionTreeClassifier\n",
    "import numpy as np\n",
    "import pandas as pd\n",
    "X = pd.read_csv(\"preprocessed.xlsx\")\n",
    "X"
   ],
   "metadata": {
    "collapsed": false,
    "pycharm": {
     "name": "#%%\n"
    }
   }
  },
  {
   "cell_type": "code",
   "execution_count": 20,
   "outputs": [
    {
     "data": {
      "text/plain": "((317948, 60), (79488, 60))"
     },
     "execution_count": 20,
     "metadata": {},
     "output_type": "execute_result"
    }
   ],
   "source": [
    "# a,b,c,d = train_test_split()\n",
    "X_train, X_test, y_train, y_test = train_test_split(X.drop([\"Product\"], axis=1), X[\"Product\"], train_size=0.8, test_size=0.2, random_state=0)\n",
    "X_train.shape, X_test.shape"
   ],
   "metadata": {
    "collapsed": false,
    "pycharm": {
     "name": "#%%\n"
    }
   }
  },
  {
   "cell_type": "code",
   "execution_count": 17,
   "outputs": [],
   "source": [
    "# clf = GradientBoostingClassifier(n_estimators=100, learning_rate=0.1, max_depth=3).fit(X_train, y_train)\n",
    "# clf = LogisticRegression().fit(X_train, y_train)\n",
    "# clf = RandomForestClassifier().fit(X_train, y_train)\n",
    "clf = DecisionTreeClassifier().fit(X_train, y_train)"
   ],
   "metadata": {
    "collapsed": false,
    "pycharm": {
     "name": "#%%\n"
    }
   }
  },
  {
   "cell_type": "code",
   "execution_count": 21,
   "outputs": [],
   "source": [
    "y_pred = clf.predict(X_test)"
   ],
   "metadata": {
    "collapsed": false,
    "pycharm": {
     "name": "#%%\n"
    }
   }
  },
  {
   "cell_type": "code",
   "execution_count": 22,
   "outputs": [
    {
     "data": {
      "text/plain": "0.9230324074074074"
     },
     "execution_count": 22,
     "metadata": {},
     "output_type": "execute_result"
    }
   ],
   "source": [
    "score = accuracy_score(y_test, y_pred)\n",
    "score"
   ],
   "metadata": {
    "collapsed": false,
    "pycharm": {
     "name": "#%%\n"
    }
   }
  },
  {
   "cell_type": "code",
   "execution_count": null,
   "outputs": [],
   "source": [],
   "metadata": {
    "collapsed": false,
    "pycharm": {
     "name": "#%%\n"
    }
   }
  }
 ],
 "metadata": {
  "kernelspec": {
   "display_name": "Python 3 (ipykernel)",
   "language": "python",
   "name": "python3"
  },
  "language_info": {
   "codemirror_mode": {
    "name": "ipython",
    "version": 3
   },
   "file_extension": ".py",
   "mimetype": "text/x-python",
   "name": "python",
   "nbconvert_exporter": "python",
   "pygments_lexer": "ipython3",
   "version": "3.8.8"
  }
 },
 "nbformat": 4,
 "nbformat_minor": 5
}