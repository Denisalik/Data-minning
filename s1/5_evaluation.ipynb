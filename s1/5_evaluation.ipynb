{
 "cells": [
  {
   "cell_type": "code",
   "execution_count": null,
   "metadata": {
    "id": "pzImNeOjy4jZ"
   },
   "outputs": [],
   "source": [
    "# import libraries\n",
    "import pandas as pd\n",
    "import numpy as np"
   ]
  },
  {
   "cell_type": "markdown",
   "metadata": {
    "id": "_RbelOPK4TFB"
   },
   "source": [
    "# evaluation\n",
    "---------------------\n",
    "At this stage in the project you have built a model (or models) that appears to have high quality from a data analysis perspective. Before proceeding to final deployment of the model, it is important to more thoroughly evaluate the model and review the steps executed to construct the model to be certain it properly achieves the business objectives. A key objective is to determine if there is some important business issue that has not been sufficiently considered. At the end of this phase, a decision on the use of the data mining results should be reached."
   ]
  },
  {
   "cell_type": "markdown",
   "metadata": {
    "id": "SAEHAkLIsImG"
   },
   "source": [
    "## evaluate result\n",
    "----------\n",
    "\n",
    "### task\n",
    "\n",
    "Previous evaluation steps dealt with factors such as the accuracy and generality of the model. This step assesses the degree to which the model meets the business objectives and seeks to determine if there is some business reason why this model is deficient. Another option of evaluation is to test the model(s) on test applications in the real application if time and budget constraints permit.\n",
    "\n",
    "Moreover, evaluation also assesses other data mining results generated. Data mining results cover models which are necessarily related to the original business objectives and all other findings which are not necessarily related to the original business objectives but might also unveil additional challenges, information or hints for future directions.\n",
    "\n",
    "### output\n",
    "\n",
    "#### assessment of data mining results with respect to business success criteria \n",
    "\n",
    "Summarize assessment results in terms of business success criteria including a final statement whether the project already meets the initial business objectives.\n",
    "\n",
    "#### approved models \n",
    "\n",
    "After model assessment with respect to business success criteria, the gen-erated models that meet the selected criteria become approved models.\n"
   ]
  },
  {
   "cell_type": "markdown",
   "metadata": {
    "id": "MTt2pAHhr8Od"
   },
   "source": [
    "## review process\n",
    "------------------\n",
    "\n",
    "### task\n",
    "\n",
    "At this point the resultant model hopefully appears to be satisfactory and to satisfy business needs. It is now appropriate to do a more thorough review of the data mining engagement in order to determine if there is any important factor or task that has somehow been overlooked. This review also covers quality assurance issues, e.g., did we correctly build the model? Did we only use attributes that we are allowed to use and that are available for future analyses?\n",
    "\n",
    "### output\n",
    "\n",
    "Summarize the process review and highlight activities that have been missed and/or should be repeated. \n"
   ]
  },
  {
   "cell_type": "markdown",
   "metadata": {
    "id": "Wfrdzmhe0Zfr"
   },
   "source": [
    "## determine next steps\n",
    "----------\n",
    "\n",
    "### task\n",
    "\n",
    "According to the assessment results and the process review, the project decides how to proceed at this stage. The project needs to decide whether to finish this project and move on to deployment if appropriate or whether to initiate further iterations or set up new data mining projects. This task includes analyses of remaining resources and budget that influences the decisions.\n",
    "\n",
    "### output\n",
    "\n",
    "#### list of possible actions \n",
    "\n",
    "List the potential further actions along with the reasons for and against each option.\n",
    "\n",
    "#### Decision \n",
    "\n",
    "Describe the decision as to how to proceed along with the rationale.\n"
   ]
  },
  {
   "cell_type": "markdown",
   "metadata": {
    "id": "-u6lu6ep4EgC"
   },
   "source": [
    "## note/questions\n",
    "-------------\n",
    "\n",
    "#### evaluate model\n",
    "As we can see by coefficients, some countries has them as large as 20. It means customers from these countries are less likely to buy based on price and quantity(Brazil, Denmark, Greece, Japan, Lebanon, Lithuania), but more likely to buy just because they want to buy product. So we can up the price a little bit. \\\n",
    "These countries:\n",
    " - Austria\n",
    " - Bahrain\n",
    " - Belgium\n",
    " - Canada\n",
    " - Channel Islands\n",
    " - Cyprus\n",
    " - Czech Republic\n",
    " - European Community\n",
    " - France\n",
    " - Germany\n",
    " - Iceland\n",
    " - Israel\n",
    " - Italy\n",
    " - Malta\n",
    " - Netherlands\n",
    " - Norway\n",
    " - Poland\n",
    " - Portugal\n",
    " - RSA\n",
    " - Saudi Arabia\n",
    " - Spain\n",
    " - Sweden\n",
    " - USA\n",
    " - United Kingdom\n",
    " \n",
    "have negative coefficient, it means they will buy looking at price and quantity of a product, and we need to do discounts, so they will buy more.\\\n",
    "\n",
    "Also best time for selling is 12:00. Taking it into consideration we can add ads with food(12:00 is lunch time), so that people will buy it with products. \\\n",
    "Average selling quantity is 4, average selling price is 1.6, we need to add more products with that price and around that quantity. \\\n",
    "If country coefficient is large, it means product is more likely to be bought in that country without looking at another characteristics.\n",
    "#### review process\n",
    "Best characteristics were found. \n",
    "Other algorithms, beside regression can be used to predict 'sum' column.\n",
    "#### determine next step\n",
    "Project needs to initiate further iterations, based on another data. "
   ]
  },
  {
   "cell_type": "code",
   "execution_count": null,
   "metadata": {
    "id": "77gTgxgz4PYQ"
   },
   "outputs": [],
   "source": []
  }
 ],
 "metadata": {
  "colab": {
   "authorship_tag": "ABX9TyN56UHBHmrfaXFDkddTWCbb",
   "collapsed_sections": [],
   "name": "evaluation.ipynb",
   "provenance": []
  },
  "kernelspec": {
   "display_name": "Python 3 (ipykernel)",
   "language": "python",
   "name": "python3"
  },
  "language_info": {
   "codemirror_mode": {
    "name": "ipython",
    "version": 3
   },
   "file_extension": ".py",
   "mimetype": "text/x-python",
   "name": "python",
   "nbconvert_exporter": "python",
   "pygments_lexer": "ipython3",
   "version": "3.8.8"
  }
 },
 "nbformat": 4,
 "nbformat_minor": 1
}
