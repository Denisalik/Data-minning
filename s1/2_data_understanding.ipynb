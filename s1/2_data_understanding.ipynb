{
 "cells": [
  {
   "cell_type": "code",
   "execution_count": null,
   "metadata": {},
   "outputs": [],
   "source": [
    "# # mount drive\n",
    "# from google.colab import drive\n",
    "# drive.mount('/content/drive')"
   ]
  },
  {
   "cell_type": "code",
   "execution_count": null,
   "metadata": {},
   "outputs": [],
   "source": [
    "# # move directory\n",
    "# import os\n",
    "# colab_dir = \"./drive/MyDrive/\"\n",
    "# os.chdir(colab_dir)"
   ]
  },
  {
   "cell_type": "code",
   "execution_count": 1,
   "metadata": {
    "id": "pzImNeOjy4jZ"
   },
   "outputs": [],
   "source": [
    "# import libraries\n",
    "import pandas as pd\n",
    "import numpy as np\n",
    "import seaborn as sns\n",
    "import matplotlib.pyplot as plt\n",
    "import matplotlib_inline\n",
    "%matplotlib inline"
   ]
  },
  {
   "cell_type": "code",
   "execution_count": 2,
   "metadata": {},
   "outputs": [
    {
     "name": "stdout",
     "output_type": "stream",
     "text": [
      "Collecting https://github.com/pandas-profiling/pandas-profiling/archive/master.zip\n",
      "  Downloading https://github.com/pandas-profiling/pandas-profiling/archive/master.zip (25.9 MB)\n",
      "\u001b[K     |████████████████████████████████| 25.9 MB 190 kB/s  eta 0:00:01   |██▌                             | 2.0 MB 553 kB/s eta 0:00:44     |████████████▊                   | 10.3 MB 11.3 MB/s eta 0:00:02     |██████████████████▊             | 15.2 MB 11.3 MB/s eta 0:00:01     |███████████████████▎            | 15.7 MB 11.3 MB/s eta 0:00:01     |████████████████████████████▉   | 23.4 MB 11.2 MB/s eta 0:00:01     |█████████████████████████████▎  | 23.8 MB 11.2 MB/s eta 0:00:01     |█████████████████████████████▊  | 24.1 MB 11.2 MB/s eta 0:00:01     |██████████████████████████████▏ | 24.5 MB 11.2 MB/s eta 0:00:01     |██████████████████████████████▌ | 24.7 MB 11.2 MB/s eta 0:00:01\n",
      "\u001b[?25hCollecting joblib~=1.1.0\n",
      "  Downloading joblib-1.1.0-py2.py3-none-any.whl (306 kB)\n",
      "\u001b[K     |████████████████████████████████| 306 kB 842 kB/s eta 0:00:01\n",
      "\u001b[?25hRequirement already satisfied: scipy>=1.4.1 in /home/denis/anaconda3/lib/python3.8/site-packages (from pandas-profiling==3.1.1) (1.6.2)\n",
      "Requirement already satisfied: pandas!=1.0.0,!=1.0.1,!=1.0.2,!=1.1.0,>=0.25.3 in /home/denis/anaconda3/lib/python3.8/site-packages (from pandas-profiling==3.1.1) (1.2.4)\n",
      "Requirement already satisfied: matplotlib>=3.2.0 in /home/denis/anaconda3/lib/python3.8/site-packages (from pandas-profiling==3.1.1) (3.3.4)\n",
      "Requirement already satisfied: pydantic>=1.8.1 in /home/denis/anaconda3/lib/python3.8/site-packages (from pandas-profiling==3.1.1) (1.8.2)\n",
      "Requirement already satisfied: PyYAML>=5.0.0 in /home/denis/anaconda3/lib/python3.8/site-packages (from pandas-profiling==3.1.1) (5.4.1)\n",
      "Requirement already satisfied: jinja2>=2.11.1 in /home/denis/.local/lib/python3.8/site-packages (from pandas-profiling==3.1.1) (3.0.1)\n",
      "Requirement already satisfied: markupsafe~=2.0.1 in /home/denis/.local/lib/python3.8/site-packages (from pandas-profiling==3.1.1) (2.0.1)\n",
      "Collecting visions[type_image_path]==0.7.4\n",
      "  Downloading visions-0.7.4-py3-none-any.whl (102 kB)\n",
      "\u001b[K     |████████████████████████████████| 102 kB 1.2 MB/s ta 0:00:01\n",
      "\u001b[?25hRequirement already satisfied: numpy>=1.16.0 in /home/denis/anaconda3/lib/python3.8/site-packages (from pandas-profiling==3.1.1) (1.19.5)\n",
      "Collecting htmlmin>=0.1.12\n",
      "  Downloading htmlmin-0.1.12.tar.gz (19 kB)\n",
      "Collecting missingno>=0.4.2\n",
      "  Downloading missingno-0.5.0-py3-none-any.whl (8.8 kB)\n",
      "Collecting phik>=0.11.1\n",
      "  Downloading phik-0.12.0-cp38-cp38-manylinux2010_x86_64.whl (676 kB)\n",
      "\u001b[K     |████████████████████████████████| 676 kB 7.5 MB/s eta 0:00:01     |██████████████████████████▋     | 563 kB 7.5 MB/s eta 0:00:01\n",
      "\u001b[?25hCollecting tangled-up-in-unicode==0.2.0\n",
      "  Downloading tangled_up_in_unicode-0.2.0-py3-none-any.whl (4.7 MB)\n",
      "\u001b[K     |████████████████████████████████| 4.7 MB 6.4 MB/s eta 0:00:01\n",
      "\u001b[?25hRequirement already satisfied: requests>=2.24.0 in /home/denis/anaconda3/lib/python3.8/site-packages (from pandas-profiling==3.1.1) (2.25.1)\n",
      "Requirement already satisfied: tqdm>=4.48.2 in /home/denis/anaconda3/lib/python3.8/site-packages (from pandas-profiling==3.1.1) (4.59.0)\n",
      "Requirement already satisfied: seaborn>=0.10.1 in /home/denis/anaconda3/lib/python3.8/site-packages (from pandas-profiling==3.1.1) (0.11.1)\n",
      "Collecting multimethod>=1.4\n",
      "  Downloading multimethod-1.6-py3-none-any.whl (9.4 kB)\n",
      "Requirement already satisfied: attrs>=19.3.0 in /home/denis/.local/lib/python3.8/site-packages (from visions[type_image_path]==0.7.4->pandas-profiling==3.1.1) (21.2.0)\n",
      "Requirement already satisfied: networkx>=2.4 in /home/denis/anaconda3/lib/python3.8/site-packages (from visions[type_image_path]==0.7.4->pandas-profiling==3.1.1) (2.5)\n",
      "Collecting imagehash\n",
      "  Downloading ImageHash-4.2.1.tar.gz (812 kB)\n",
      "\u001b[K     |████████████████████████████████| 812 kB 6.4 MB/s eta 0:00:01\n",
      "\u001b[?25hRequirement already satisfied: Pillow in /home/denis/anaconda3/lib/python3.8/site-packages (from visions[type_image_path]==0.7.4->pandas-profiling==3.1.1) (8.2.0)\n",
      "Requirement already satisfied: python-dateutil>=2.1 in /home/denis/anaconda3/lib/python3.8/site-packages (from matplotlib>=3.2.0->pandas-profiling==3.1.1) (2.8.1)\n",
      "Requirement already satisfied: cycler>=0.10 in /home/denis/anaconda3/lib/python3.8/site-packages (from matplotlib>=3.2.0->pandas-profiling==3.1.1) (0.10.0)\n",
      "Requirement already satisfied: pyparsing!=2.0.4,!=2.1.2,!=2.1.6,>=2.0.3 in /home/denis/.local/lib/python3.8/site-packages (from matplotlib>=3.2.0->pandas-profiling==3.1.1) (2.4.7)\n",
      "Requirement already satisfied: kiwisolver>=1.0.1 in /home/denis/anaconda3/lib/python3.8/site-packages (from matplotlib>=3.2.0->pandas-profiling==3.1.1) (1.3.1)\n",
      "Requirement already satisfied: six in /home/denis/anaconda3/lib/python3.8/site-packages (from cycler>=0.10->matplotlib>=3.2.0->pandas-profiling==3.1.1) (1.15.0)\n",
      "Requirement already satisfied: decorator>=4.3.0 in /home/denis/.local/lib/python3.8/site-packages (from networkx>=2.4->visions[type_image_path]==0.7.4->pandas-profiling==3.1.1) (5.0.9)\n",
      "Requirement already satisfied: pytz>=2017.3 in /home/denis/anaconda3/lib/python3.8/site-packages (from pandas!=1.0.0,!=1.0.1,!=1.0.2,!=1.1.0,>=0.25.3->pandas-profiling==3.1.1) (2021.1)\n",
      "Requirement already satisfied: typing-extensions>=3.7.4.3 in /home/denis/anaconda3/lib/python3.8/site-packages (from pydantic>=1.8.1->pandas-profiling==3.1.1) (3.7.4.3)\n",
      "Requirement already satisfied: chardet<5,>=3.0.2 in /home/denis/anaconda3/lib/python3.8/site-packages (from requests>=2.24.0->pandas-profiling==3.1.1) (4.0.0)\n",
      "Requirement already satisfied: urllib3<1.27,>=1.21.1 in /home/denis/anaconda3/lib/python3.8/site-packages (from requests>=2.24.0->pandas-profiling==3.1.1) (1.26.4)\n",
      "Requirement already satisfied: idna<3,>=2.5 in /home/denis/anaconda3/lib/python3.8/site-packages (from requests>=2.24.0->pandas-profiling==3.1.1) (2.10)\n",
      "Requirement already satisfied: certifi>=2017.4.17 in /home/denis/anaconda3/lib/python3.8/site-packages (from requests>=2.24.0->pandas-profiling==3.1.1) (2020.12.5)\n",
      "Requirement already satisfied: PyWavelets in /home/denis/anaconda3/lib/python3.8/site-packages (from imagehash->visions[type_image_path]==0.7.4->pandas-profiling==3.1.1) (1.1.1)\n",
      "Building wheels for collected packages: pandas-profiling, htmlmin, imagehash\n",
      "  Building wheel for pandas-profiling (setup.py) ... \u001b[?25ldone\n",
      "\u001b[?25h  Created wheel for pandas-profiling: filename=pandas_profiling-3.1.1-py2.py3-none-any.whl size=261263 sha256=bd36e41fafb27407f08e4e63d50e4b72b3357f339212cd5f956726c47bd87b65\n",
      "  Stored in directory: /tmp/pip-ephem-wheel-cache-yyzgv7ax/wheels/64/b6/85/dfc808b23666a5910371784e349d28818006ff63ed9cfeca59\n",
      "  Building wheel for htmlmin (setup.py) ... \u001b[?25ldone\n",
      "\u001b[?25h  Created wheel for htmlmin: filename=htmlmin-0.1.12-py3-none-any.whl size=27085 sha256=a203913391c76cfa80567b61757d62e67f99d0443057d1fafcdcc7ca91740f9f\n",
      "  Stored in directory: /home/denis/.cache/pip/wheels/23/14/6e/4be5bfeeb027f4939a01764b48edd5996acf574b0913fe5243\n",
      "  Building wheel for imagehash (setup.py) ... \u001b[?25ldone\n",
      "\u001b[?25h  Created wheel for imagehash: filename=ImageHash-4.2.1-py2.py3-none-any.whl size=295198 sha256=976c0a1d5ebf0b0099d3730c54581249ab5faac4908a7cb45aff37053e90b575\n",
      "  Stored in directory: /home/denis/.cache/pip/wheels/48/a1/7f/096c1269d6bf78d4768180602579b35a1e8cb1250bb4b40c74\n",
      "Successfully built pandas-profiling htmlmin imagehash\n",
      "Installing collected packages: tangled-up-in-unicode, multimethod, visions, joblib, imagehash, phik, missingno, htmlmin, pandas-profiling\n",
      "  Attempting uninstall: joblib\n",
      "    Found existing installation: joblib 1.0.1\n",
      "    Uninstalling joblib-1.0.1:\n",
      "      Successfully uninstalled joblib-1.0.1\n",
      "Successfully installed htmlmin-0.1.12 imagehash-4.2.1 joblib-1.1.0 missingno-0.5.0 multimethod-1.6 pandas-profiling-3.1.1 phik-0.12.0 tangled-up-in-unicode-0.2.0 visions-0.7.4\n"
     ]
    }
   ],
   "source": [
    "# pip install\n",
    "##  pandas profiling\n",
    "!pip install https://github.com/pandas-profiling/pandas-profiling/archive/master.zip    \n",
    "from pandas_profiling import ProfileReport"
   ]
  },
  {
   "cell_type": "code",
   "execution_count": 3,
   "metadata": {},
   "outputs": [],
   "source": [
    "# set random seed\n",
    "import random\n",
    "random.seed(335)"
   ]
  },
  {
   "cell_type": "code",
   "execution_count": 4,
   "metadata": {},
   "outputs": [],
   "source": [
    "# magic word\n",
    "pd.set_option('display.max_rows', 500)\n",
    "pd.set_option('display.max_columns', 500)"
   ]
  },
  {
   "cell_type": "code",
   "execution_count": 5,
   "metadata": {},
   "outputs": [],
   "source": [
    "# for better viz\n",
    "import pprint\n",
    "import warnings\n",
    "warnings.filterwarnings('ignore')"
   ]
  },
  {
   "cell_type": "markdown",
   "metadata": {},
   "source": [
    "### reference\n",
    "-------------------\n",
    "\n",
    "- [pandas cheat sheet](https://github.com/pandas-dev/pandas/tree/master/doc/cheatsheet)\n",
    "- [numpy cheat sheet(data camp)](https://www.datacamp.com/community/blog/python-numpy-cheat-sheet)\n",
    "- [scikit-learn cheat sheet(data camp)](datacamp.com/community/blog/scikit-learn-cheat-sheet)"
   ]
  },
  {
   "cell_type": "markdown",
   "metadata": {
    "id": "_RbelOPK4TFB"
   },
   "source": [
    "# data understanding\n",
    "------------\n",
    "The data understanding phase starts with an initial data collection and proceeds withactivities in order to get familiar with the data, to identify data quality problems, to discover first insights into the data or to detect interesting subsets to form hypothesesfor hidden information."
   ]
  },
  {
   "cell_type": "markdown",
   "metadata": {
    "id": "Wfrdzmhe0Zfr"
   },
   "source": [
    "## collect initial data\n",
    "----------\n",
    "\n",
    "### task\n",
    "\n",
    "Acquire within the project the data (or access to the data) listed in the\n",
    "project resources. This initial collection includes data loading if necessary\n",
    "for data understanding. For example, if you apply a specific tool for data\n",
    "understanding, it makes perfect sense to load your data into this tool.\n",
    "This effort possibly leads to initial data preparation steps.\n",
    "\n",
    "Note: if you acquire multiple data sources, integration is an additional\n",
    "issue, either here or in the later data preparation phase.\n",
    "\n",
    "### output\n",
    "\n",
    "List the dataset (or datasets) acquired, together with their locations\n",
    "within the project, the methods used to acquire them and any problems\n",
    "encountered. Record problems encountered and any solutions achieved\n",
    "to aid with future replication of this project or with the execution of\n",
    "similar future projects."
   ]
  },
  {
   "cell_type": "code",
   "execution_count": 7,
   "metadata": {},
   "outputs": [],
   "source": [
    "# # read csv file\n",
    "# path = \"data/\"\n",
    "# file_name = \"Online Retail.xlsx\"\n",
    "# df = pd.read_csv(path + file_name)"
   ]
  },
  {
   "cell_type": "code",
   "execution_count": 8,
   "metadata": {},
   "outputs": [],
   "source": [
    "# read excel file\n",
    "path = \"data/\"\n",
    "file_name = \"Online Retail.xlsx\"\n",
    "sheet_name = \"Online Retail\"\n",
    "df = pd.read_excel(path + file_name, sheet_name=sheet_name)"
   ]
  },
  {
   "cell_type": "markdown",
   "metadata": {
    "id": "6Sc9nvcRfYwT"
   },
   "source": [
    "## describe data\n",
    "----------\n",
    "\n",
    "### task\n",
    "\n",
    "Examine the “gross” or “surface” properties of the acquired data and\n",
    "report on the results.\n",
    "\n",
    "### output\n",
    "\n",
    "Describe the data which has been acquired, including: the format of\n",
    "the data, the quantity of data, for example number of records and fields\n",
    "in each table, the identities of the fields and any other surface features\n",
    "of the data which have been discovered. Does the data acquired satisfy\n",
    "the relevant requirements?"
   ]
  },
  {
   "cell_type": "code",
   "execution_count": 9,
   "metadata": {
    "colab": {
     "base_uri": "https://localhost:8080/"
    },
    "executionInfo": {
     "elapsed": 3521,
     "status": "ok",
     "timestamp": 1619696768375,
     "user": {
      "displayName": "木村隆介",
      "photoUrl": "",
      "userId": "17085545041801616114"
     },
     "user_tz": -540
    },
    "id": "QPHjdzkE0UVz",
    "outputId": "9ca87f60-f785-4e83-e467-cb45092267ab"
   },
   "outputs": [
    {
     "data": {
      "text/plain": [
       "(541909, 8)"
      ]
     },
     "execution_count": 9,
     "metadata": {},
     "output_type": "execute_result"
    }
   ],
   "source": [
    "# number of records and fields\n",
    "df.shape # (records, fields)"
   ]
  },
  {
   "cell_type": "code",
   "execution_count": 10,
   "metadata": {
    "colab": {
     "base_uri": "https://localhost:8080/",
     "height": 204
    },
    "executionInfo": {
     "elapsed": 3509,
     "status": "ok",
     "timestamp": 1619696768376,
     "user": {
      "displayName": "木村隆介",
      "photoUrl": "",
      "userId": "17085545041801616114"
     },
     "user_tz": -540
    },
    "id": "oROpmwmop0rg",
    "outputId": "f417b4f4-c976-4fff-c6b2-2bd30c5c272c"
   },
   "outputs": [
    {
     "data": {
      "text/html": [
       "<div>\n",
       "<style scoped>\n",
       "    .dataframe tbody tr th:only-of-type {\n",
       "        vertical-align: middle;\n",
       "    }\n",
       "\n",
       "    .dataframe tbody tr th {\n",
       "        vertical-align: top;\n",
       "    }\n",
       "\n",
       "    .dataframe thead th {\n",
       "        text-align: right;\n",
       "    }\n",
       "</style>\n",
       "<table border=\"1\" class=\"dataframe\">\n",
       "  <thead>\n",
       "    <tr style=\"text-align: right;\">\n",
       "      <th></th>\n",
       "      <th>InvoiceNo</th>\n",
       "      <th>StockCode</th>\n",
       "      <th>Description</th>\n",
       "      <th>Quantity</th>\n",
       "      <th>InvoiceDate</th>\n",
       "      <th>UnitPrice</th>\n",
       "      <th>CustomerID</th>\n",
       "      <th>Country</th>\n",
       "    </tr>\n",
       "  </thead>\n",
       "  <tbody>\n",
       "    <tr>\n",
       "      <th>0</th>\n",
       "      <td>536365</td>\n",
       "      <td>85123A</td>\n",
       "      <td>WHITE HANGING HEART T-LIGHT HOLDER</td>\n",
       "      <td>6</td>\n",
       "      <td>2010-12-01 08:26:00</td>\n",
       "      <td>2.55</td>\n",
       "      <td>17850.0</td>\n",
       "      <td>United Kingdom</td>\n",
       "    </tr>\n",
       "    <tr>\n",
       "      <th>1</th>\n",
       "      <td>536365</td>\n",
       "      <td>71053</td>\n",
       "      <td>WHITE METAL LANTERN</td>\n",
       "      <td>6</td>\n",
       "      <td>2010-12-01 08:26:00</td>\n",
       "      <td>3.39</td>\n",
       "      <td>17850.0</td>\n",
       "      <td>United Kingdom</td>\n",
       "    </tr>\n",
       "    <tr>\n",
       "      <th>2</th>\n",
       "      <td>536365</td>\n",
       "      <td>84406B</td>\n",
       "      <td>CREAM CUPID HEARTS COAT HANGER</td>\n",
       "      <td>8</td>\n",
       "      <td>2010-12-01 08:26:00</td>\n",
       "      <td>2.75</td>\n",
       "      <td>17850.0</td>\n",
       "      <td>United Kingdom</td>\n",
       "    </tr>\n",
       "    <tr>\n",
       "      <th>3</th>\n",
       "      <td>536365</td>\n",
       "      <td>84029G</td>\n",
       "      <td>KNITTED UNION FLAG HOT WATER BOTTLE</td>\n",
       "      <td>6</td>\n",
       "      <td>2010-12-01 08:26:00</td>\n",
       "      <td>3.39</td>\n",
       "      <td>17850.0</td>\n",
       "      <td>United Kingdom</td>\n",
       "    </tr>\n",
       "    <tr>\n",
       "      <th>4</th>\n",
       "      <td>536365</td>\n",
       "      <td>84029E</td>\n",
       "      <td>RED WOOLLY HOTTIE WHITE HEART.</td>\n",
       "      <td>6</td>\n",
       "      <td>2010-12-01 08:26:00</td>\n",
       "      <td>3.39</td>\n",
       "      <td>17850.0</td>\n",
       "      <td>United Kingdom</td>\n",
       "    </tr>\n",
       "  </tbody>\n",
       "</table>\n",
       "</div>"
      ],
      "text/plain": [
       "  InvoiceNo StockCode                          Description  Quantity  \\\n",
       "0    536365    85123A   WHITE HANGING HEART T-LIGHT HOLDER         6   \n",
       "1    536365     71053                  WHITE METAL LANTERN         6   \n",
       "2    536365    84406B       CREAM CUPID HEARTS COAT HANGER         8   \n",
       "3    536365    84029G  KNITTED UNION FLAG HOT WATER BOTTLE         6   \n",
       "4    536365    84029E       RED WOOLLY HOTTIE WHITE HEART.         6   \n",
       "\n",
       "          InvoiceDate  UnitPrice  CustomerID         Country  \n",
       "0 2010-12-01 08:26:00       2.55     17850.0  United Kingdom  \n",
       "1 2010-12-01 08:26:00       3.39     17850.0  United Kingdom  \n",
       "2 2010-12-01 08:26:00       2.75     17850.0  United Kingdom  \n",
       "3 2010-12-01 08:26:00       3.39     17850.0  United Kingdom  \n",
       "4 2010-12-01 08:26:00       3.39     17850.0  United Kingdom  "
      ]
     },
     "execution_count": 10,
     "metadata": {},
     "output_type": "execute_result"
    }
   ],
   "source": [
    "# head\n",
    "df.head(n=5)"
   ]
  },
  {
   "cell_type": "code",
   "execution_count": 11,
   "metadata": {
    "colab": {
     "base_uri": "https://localhost:8080/",
     "height": 204
    },
    "executionInfo": {
     "elapsed": 3499,
     "status": "ok",
     "timestamp": 1619696768377,
     "user": {
      "displayName": "木村隆介",
      "photoUrl": "",
      "userId": "17085545041801616114"
     },
     "user_tz": -540
    },
    "id": "7dtwSa8YqAEq",
    "outputId": "90341c91-f376-4a93-80d7-70f2e232561b"
   },
   "outputs": [
    {
     "data": {
      "text/html": [
       "<div>\n",
       "<style scoped>\n",
       "    .dataframe tbody tr th:only-of-type {\n",
       "        vertical-align: middle;\n",
       "    }\n",
       "\n",
       "    .dataframe tbody tr th {\n",
       "        vertical-align: top;\n",
       "    }\n",
       "\n",
       "    .dataframe thead th {\n",
       "        text-align: right;\n",
       "    }\n",
       "</style>\n",
       "<table border=\"1\" class=\"dataframe\">\n",
       "  <thead>\n",
       "    <tr style=\"text-align: right;\">\n",
       "      <th></th>\n",
       "      <th>InvoiceNo</th>\n",
       "      <th>StockCode</th>\n",
       "      <th>Description</th>\n",
       "      <th>Quantity</th>\n",
       "      <th>InvoiceDate</th>\n",
       "      <th>UnitPrice</th>\n",
       "      <th>CustomerID</th>\n",
       "      <th>Country</th>\n",
       "    </tr>\n",
       "  </thead>\n",
       "  <tbody>\n",
       "    <tr>\n",
       "      <th>541904</th>\n",
       "      <td>581587</td>\n",
       "      <td>22613</td>\n",
       "      <td>PACK OF 20 SPACEBOY NAPKINS</td>\n",
       "      <td>12</td>\n",
       "      <td>2011-12-09 12:50:00</td>\n",
       "      <td>0.85</td>\n",
       "      <td>12680.0</td>\n",
       "      <td>France</td>\n",
       "    </tr>\n",
       "    <tr>\n",
       "      <th>541905</th>\n",
       "      <td>581587</td>\n",
       "      <td>22899</td>\n",
       "      <td>CHILDREN'S APRON DOLLY GIRL</td>\n",
       "      <td>6</td>\n",
       "      <td>2011-12-09 12:50:00</td>\n",
       "      <td>2.10</td>\n",
       "      <td>12680.0</td>\n",
       "      <td>France</td>\n",
       "    </tr>\n",
       "    <tr>\n",
       "      <th>541906</th>\n",
       "      <td>581587</td>\n",
       "      <td>23254</td>\n",
       "      <td>CHILDRENS CUTLERY DOLLY GIRL</td>\n",
       "      <td>4</td>\n",
       "      <td>2011-12-09 12:50:00</td>\n",
       "      <td>4.15</td>\n",
       "      <td>12680.0</td>\n",
       "      <td>France</td>\n",
       "    </tr>\n",
       "    <tr>\n",
       "      <th>541907</th>\n",
       "      <td>581587</td>\n",
       "      <td>23255</td>\n",
       "      <td>CHILDRENS CUTLERY CIRCUS PARADE</td>\n",
       "      <td>4</td>\n",
       "      <td>2011-12-09 12:50:00</td>\n",
       "      <td>4.15</td>\n",
       "      <td>12680.0</td>\n",
       "      <td>France</td>\n",
       "    </tr>\n",
       "    <tr>\n",
       "      <th>541908</th>\n",
       "      <td>581587</td>\n",
       "      <td>22138</td>\n",
       "      <td>BAKING SET 9 PIECE RETROSPOT</td>\n",
       "      <td>3</td>\n",
       "      <td>2011-12-09 12:50:00</td>\n",
       "      <td>4.95</td>\n",
       "      <td>12680.0</td>\n",
       "      <td>France</td>\n",
       "    </tr>\n",
       "  </tbody>\n",
       "</table>\n",
       "</div>"
      ],
      "text/plain": [
       "       InvoiceNo StockCode                      Description  Quantity  \\\n",
       "541904    581587     22613      PACK OF 20 SPACEBOY NAPKINS        12   \n",
       "541905    581587     22899     CHILDREN'S APRON DOLLY GIRL          6   \n",
       "541906    581587     23254    CHILDRENS CUTLERY DOLLY GIRL          4   \n",
       "541907    581587     23255  CHILDRENS CUTLERY CIRCUS PARADE         4   \n",
       "541908    581587     22138    BAKING SET 9 PIECE RETROSPOT          3   \n",
       "\n",
       "               InvoiceDate  UnitPrice  CustomerID Country  \n",
       "541904 2011-12-09 12:50:00       0.85     12680.0  France  \n",
       "541905 2011-12-09 12:50:00       2.10     12680.0  France  \n",
       "541906 2011-12-09 12:50:00       4.15     12680.0  France  \n",
       "541907 2011-12-09 12:50:00       4.15     12680.0  France  \n",
       "541908 2011-12-09 12:50:00       4.95     12680.0  France  "
      ]
     },
     "execution_count": 11,
     "metadata": {},
     "output_type": "execute_result"
    }
   ],
   "source": [
    "# tail\n",
    "df.tail(n=5)"
   ]
  },
  {
   "cell_type": "code",
   "execution_count": 12,
   "metadata": {
    "colab": {
     "base_uri": "https://localhost:8080/"
    },
    "executionInfo": {
     "elapsed": 3490,
     "status": "ok",
     "timestamp": 1619696768378,
     "user": {
      "displayName": "木村隆介",
      "photoUrl": "",
      "userId": "17085545041801616114"
     },
     "user_tz": -540
    },
    "id": "SVxbdOL9qcI7",
    "outputId": "eb16d339-7dbc-4c4e-d2a3-a590174b2ada"
   },
   "outputs": [
    {
     "data": {
      "text/plain": [
       "InvoiceNo              object\n",
       "StockCode              object\n",
       "Description            object\n",
       "Quantity                int64\n",
       "InvoiceDate    datetime64[ns]\n",
       "UnitPrice             float64\n",
       "CustomerID            float64\n",
       "Country                object\n",
       "dtype: object"
      ]
     },
     "execution_count": 12,
     "metadata": {},
     "output_type": "execute_result"
    }
   ],
   "source": [
    "# data types\n",
    "df.dtypes"
   ]
  },
  {
   "cell_type": "markdown",
   "metadata": {
    "id": "LYGa0Os-foIw"
   },
   "source": [
    "## explore data\n",
    "----------\n",
    "\n",
    "### task\n",
    "\n",
    "This task tackles the data mining questions, which can be addressed\n",
    "using querying, visualization and reporting. These include: distribution\n",
    "of key attributes, for example the target attribute of a prediction task;\n",
    "relations between pairs or small numbers of attributes; results of\n",
    "simple aggregations; properties of significant sub-populations; simple\n",
    "statistical analyses. These analyses may address directly the data mining goals; they may also contribute to or refine the data description\n",
    "and quality reports and feed into the transformation and other data\n",
    "preparation needed for further analysis.\n",
    "\n",
    "### output\n",
    "\n",
    "Describe results of this task including first findings or initial hypothesis and their impact on the remainder of the project. If appropriate,\n",
    "include graphs and plots, which indicate data characteristics or lead\n",
    "to interesting data subsets for further examination."
   ]
  },
  {
   "cell_type": "code",
   "execution_count": 15,
   "metadata": {},
   "outputs": [],
   "source": [
    "df = df.rename(columns={'InvoiceDate': 'shipping_date', 'UnitPrice': 'price', 'Quantity': ''Quantity'})"
   ]
  },
  {
   "cell_type": "code",
   "execution_count": 16,
   "metadata": {
    "id": "eWbjazH10X7v"
   },
   "outputs": [
    {
     "ename": "AttributeError",
     "evalue": "'DataFrame' object has no attribute 'quantity'",
     "output_type": "error",
     "traceback": [
      "\u001b[0;31m---------------------------------------------------------------------------\u001b[0m",
      "\u001b[0;31mAttributeError\u001b[0m                            Traceback (most recent call last)",
      "\u001b[0;32m/tmp/ipykernel_9357/2324128905.py\u001b[0m in \u001b[0;36m<module>\u001b[0;34m\u001b[0m\n\u001b[1;32m      2\u001b[0m \u001b[0mdf\u001b[0m\u001b[0;34m.\u001b[0m\u001b[0mshipping_date\u001b[0m \u001b[0;34m=\u001b[0m \u001b[0mpd\u001b[0m\u001b[0;34m.\u001b[0m\u001b[0mto_datetime\u001b[0m\u001b[0;34m(\u001b[0m\u001b[0mdf\u001b[0m\u001b[0;34m.\u001b[0m\u001b[0mshipping_date\u001b[0m\u001b[0;34m,\u001b[0m \u001b[0mformat\u001b[0m\u001b[0;34m=\u001b[0m\u001b[0;34m'%Y/%m/%d'\u001b[0m\u001b[0;34m)\u001b[0m\u001b[0;34m\u001b[0m\u001b[0;34m\u001b[0m\u001b[0m\n\u001b[1;32m      3\u001b[0m \u001b[0mdf\u001b[0m\u001b[0;34m.\u001b[0m\u001b[0mprice\u001b[0m \u001b[0;34m=\u001b[0m \u001b[0mdf\u001b[0m\u001b[0;34m.\u001b[0m\u001b[0mprice\u001b[0m\u001b[0;34m.\u001b[0m\u001b[0mastype\u001b[0m\u001b[0;34m(\u001b[0m\u001b[0;34m'int64'\u001b[0m\u001b[0;34m)\u001b[0m\u001b[0;34m\u001b[0m\u001b[0;34m\u001b[0m\u001b[0m\n\u001b[0;32m----> 4\u001b[0;31m \u001b[0mdf\u001b[0m\u001b[0;34m.\u001b[0m\u001b[0mquantity\u001b[0m \u001b[0;34m=\u001b[0m \u001b[0mdf\u001b[0m\u001b[0;34m.\u001b[0m\u001b[0mquantity\u001b[0m\u001b[0;34m.\u001b[0m\u001b[0mastype\u001b[0m\u001b[0;34m(\u001b[0m\u001b[0;34m'int64'\u001b[0m\u001b[0;34m)\u001b[0m\u001b[0;34m\u001b[0m\u001b[0;34m\u001b[0m\u001b[0m\n\u001b[0m",
      "\u001b[0;32m~/anaconda3/lib/python3.8/site-packages/pandas/core/generic.py\u001b[0m in \u001b[0;36m__getattr__\u001b[0;34m(self, name)\u001b[0m\n\u001b[1;32m   5463\u001b[0m             \u001b[0;32mif\u001b[0m \u001b[0mself\u001b[0m\u001b[0;34m.\u001b[0m\u001b[0m_info_axis\u001b[0m\u001b[0;34m.\u001b[0m\u001b[0m_can_hold_identifiers_and_holds_name\u001b[0m\u001b[0;34m(\u001b[0m\u001b[0mname\u001b[0m\u001b[0;34m)\u001b[0m\u001b[0;34m:\u001b[0m\u001b[0;34m\u001b[0m\u001b[0;34m\u001b[0m\u001b[0m\n\u001b[1;32m   5464\u001b[0m                 \u001b[0;32mreturn\u001b[0m \u001b[0mself\u001b[0m\u001b[0;34m[\u001b[0m\u001b[0mname\u001b[0m\u001b[0;34m]\u001b[0m\u001b[0;34m\u001b[0m\u001b[0;34m\u001b[0m\u001b[0m\n\u001b[0;32m-> 5465\u001b[0;31m             \u001b[0;32mreturn\u001b[0m \u001b[0mobject\u001b[0m\u001b[0;34m.\u001b[0m\u001b[0m__getattribute__\u001b[0m\u001b[0;34m(\u001b[0m\u001b[0mself\u001b[0m\u001b[0;34m,\u001b[0m \u001b[0mname\u001b[0m\u001b[0;34m)\u001b[0m\u001b[0;34m\u001b[0m\u001b[0;34m\u001b[0m\u001b[0m\n\u001b[0m\u001b[1;32m   5466\u001b[0m \u001b[0;34m\u001b[0m\u001b[0m\n\u001b[1;32m   5467\u001b[0m     \u001b[0;32mdef\u001b[0m \u001b[0m__setattr__\u001b[0m\u001b[0;34m(\u001b[0m\u001b[0mself\u001b[0m\u001b[0;34m,\u001b[0m \u001b[0mname\u001b[0m\u001b[0;34m:\u001b[0m \u001b[0mstr\u001b[0m\u001b[0;34m,\u001b[0m \u001b[0mvalue\u001b[0m\u001b[0;34m)\u001b[0m \u001b[0;34m->\u001b[0m \u001b[0;32mNone\u001b[0m\u001b[0;34m:\u001b[0m\u001b[0;34m\u001b[0m\u001b[0;34m\u001b[0m\u001b[0m\n",
      "\u001b[0;31mAttributeError\u001b[0m: 'DataFrame' object has no attribute 'quantity'"
     ]
    }
   ],
   "source": [
    "# convert data type\n",
    "df.shipping_date = pd.to_datetime(df.shipping_date, format='%Y/%m/%d')\n",
    "df.price = df.price.astype('int64')\n",
    "df.quantity = df.quantity.astype('int64')"
   ]
  },
  {
   "cell_type": "code",
   "execution_count": null,
   "metadata": {
    "colab": {
     "base_uri": "https://localhost:8080/",
     "height": 297
    },
    "executionInfo": {
     "elapsed": 3918,
     "status": "ok",
     "timestamp": 1619696768827,
     "user": {
      "displayName": "木村隆介",
      "photoUrl": "",
      "userId": "17085545041801616114"
     },
     "user_tz": -540
    },
    "id": "DE-NXWkyuJYv",
    "outputId": "0bad6784-1f52-47ac-ac39-a106f501d240"
   },
   "outputs": [],
   "source": [
    "# describe\n",
    "df.describe()"
   ]
  },
  {
   "cell_type": "code",
   "execution_count": null,
   "metadata": {
    "colab": {
     "base_uri": "https://localhost:8080/",
     "height": 353
    },
    "executionInfo": {
     "elapsed": 4305,
     "status": "ok",
     "timestamp": 1619696769226,
     "user": {
      "displayName": "木村隆介",
      "photoUrl": "",
      "userId": "17085545041801616114"
     },
     "user_tz": -540
    },
    "id": "IaCsZ-KMwjGb",
    "outputId": "b6a2f5c1-cf46-46f8-ae59-5a5dde1bf62a"
   },
   "outputs": [],
   "source": [
    "# histogram\n",
    "sns.distplot(df.price)"
   ]
  },
  {
   "cell_type": "code",
   "execution_count": null,
   "metadata": {
    "colab": {
     "base_uri": "https://localhost:8080/",
     "height": 350
    },
    "executionInfo": {
     "elapsed": 5010,
     "status": "ok",
     "timestamp": 1619696769940,
     "user": {
      "displayName": "木村隆介",
      "photoUrl": "",
      "userId": "17085545041801616114"
     },
     "user_tz": -540
    },
    "id": "PMgw2iuJwwDr",
    "outputId": "35e182de-f924-42b4-8755-2f875c570d90"
   },
   "outputs": [],
   "source": [
    "# histogram\n",
    "sns.distplot(df.quantity)"
   ]
  },
  {
   "cell_type": "code",
   "execution_count": null,
   "metadata": {
    "colab": {
     "base_uri": "https://localhost:8080/",
     "height": 297
    },
    "executionInfo": {
     "elapsed": 5007,
     "status": "ok",
     "timestamp": 1619696769945,
     "user": {
      "displayName": "木村隆介",
      "photoUrl": "",
      "userId": "17085545041801616114"
     },
     "user_tz": -540
    },
    "id": "wMS3y_yd1CGU",
    "outputId": "b45f64d5-cd52-48b9-a9a6-35f0844d27ac"
   },
   "outputs": [],
   "source": [
    "# random data wrangling\n",
    "data = df.groupby('shipping_date', as_index=False).agg({'price': np.sum, 'quantity': np.sum})\n",
    "sns.lineplot(data=data, x=\"shipping_date\", y=\"price\")"
   ]
  },
  {
   "cell_type": "code",
   "execution_count": null,
   "metadata": {},
   "outputs": [],
   "source": [
    "# pandas profiling\n",
    "profile = ProfileReport(df, minimal=True)\n",
    "profile.to_file(path + \"data_understanding_report.html\")\n",
    "profile"
   ]
  },
  {
   "cell_type": "markdown",
   "metadata": {
    "id": "j2Qk3wwff3qz"
   },
   "source": [
    "## verify data quality\n",
    "----------\n",
    "\n",
    "### task\n",
    "\n",
    "Examine the quality of the data, addressing questions such as: is the\n",
    "data complete (does it cover all the cases required)? Is it correct or\n",
    "does it contain errors and if there are errors how common are they?\n",
    "Are there missing values in the data? If so how are they represented,\n",
    "where do they occur and how common are they?\n",
    "\n",
    "### output\n",
    "\n",
    "List the results of the data quality verification; if quality problems\n",
    "exist, list possible solutions. Solutions to data quality problems\n",
    "generally depend heavily on both data and business knowledge."
   ]
  },
  {
   "cell_type": "code",
   "execution_count": null,
   "metadata": {
    "colab": {
     "base_uri": "https://localhost:8080/",
     "height": 419
    },
    "executionInfo": {
     "elapsed": 4999,
     "status": "ok",
     "timestamp": 1619696769946,
     "user": {
      "displayName": "木村隆介",
      "photoUrl": "",
      "userId": "17085545041801616114"
     },
     "user_tz": -540
    },
    "id": "b5YEWsmB5gaA",
    "outputId": "30d81dc7-ff70-4f23-8124-1714901bff26"
   },
   "outputs": [],
   "source": [
    "# check duplicate row\n",
    "df[df.duplicated(keep=False)]"
   ]
  },
  {
   "cell_type": "code",
   "execution_count": null,
   "metadata": {
    "colab": {
     "base_uri": "https://localhost:8080/",
     "height": 419
    },
    "executionInfo": {
     "elapsed": 5006,
     "status": "ok",
     "timestamp": 1619696769963,
     "user": {
      "displayName": "木村隆介",
      "photoUrl": "",
      "userId": "17085545041801616114"
     },
     "user_tz": -540
    },
    "id": "i_wGEtBD6-r_",
    "outputId": "117aaeec-ccff-423a-8bce-d70634028830"
   },
   "outputs": [],
   "source": [
    "# check outlier\n",
    "from scipy import stats\n",
    "z_thr = 3.0\n",
    "df[(np.abs(stats.zscore(df.select_dtypes(include=int))) > z_thr).any(axis=1)]"
   ]
  },
  {
   "cell_type": "code",
   "execution_count": null,
   "metadata": {
    "colab": {
     "base_uri": "https://localhost:8080/"
    },
    "executionInfo": {
     "elapsed": 5000,
     "status": "ok",
     "timestamp": 1619696769965,
     "user": {
      "displayName": "木村隆介",
      "photoUrl": "",
      "userId": "17085545041801616114"
     },
     "user_tz": -540
    },
    "id": "ECGLrYhkgDCY",
    "outputId": "31069835-5b9e-489d-fc71-d053c72aa427"
   },
   "outputs": [],
   "source": [
    "# check missing data\n",
    "df.isnull().sum()"
   ]
  },
  {
   "cell_type": "code",
   "execution_count": null,
   "metadata": {
    "colab": {
     "base_uri": "https://localhost:8080/"
    },
    "executionInfo": {
     "elapsed": 5460,
     "status": "ok",
     "timestamp": 1619696770430,
     "user": {
      "displayName": "木村隆介",
      "photoUrl": "",
      "userId": "17085545041801616114"
     },
     "user_tz": -540
    },
    "id": "PkZq3uoiv_8B",
    "outputId": "fac23bfe-70a9-4468-ee54-3dfec56c8856"
   },
   "outputs": [],
   "source": [
    "# check number of unique value\n",
    "df.nunique()"
   ]
  },
  {
   "cell_type": "code",
   "execution_count": null,
   "metadata": {
    "colab": {
     "base_uri": "https://localhost:8080/"
    },
    "executionInfo": {
     "elapsed": 5456,
     "status": "ok",
     "timestamp": 1619696770431,
     "user": {
      "displayName": "木村隆介",
      "photoUrl": "",
      "userId": "17085545041801616114"
     },
     "user_tz": -540
    },
    "id": "c9jr4a64uq6q",
    "outputId": "1b011427-511e-4597-a03b-ceaaed8df7b9"
   },
   "outputs": [],
   "source": [
    "# check unique value\n",
    "for feature in df.columns:\n",
    "  print('------' + feature + '------')\n",
    "  print(np.sort(df[feature].unique()))\n",
    "  print()"
   ]
  },
  {
   "cell_type": "markdown",
   "metadata": {
    "id": "-u6lu6ep4EgC"
   },
   "source": [
    "## note/questions\n",
    "-------------\n",
    "\n",
    "#### collect initial data\n",
    "\n",
    "\n",
    "#### describe data\n",
    "\n",
    "\n",
    "\n",
    "#### explore data\n",
    "\n",
    "\n",
    "\n",
    "#### verify data quality\n",
    "\n",
    "\n"
   ]
  },
  {
   "cell_type": "code",
   "execution_count": null,
   "metadata": {
    "id": "77gTgxgz4PYQ"
   },
   "outputs": [],
   "source": []
  }
 ],
 "metadata": {
  "colab": {
   "authorship_tag": "ABX9TyOdbj/NpXAo0mTrRZTN4P0/",
   "collapsed_sections": [],
   "name": "data-understanding.ipynb",
   "provenance": []
  },
  "kernelspec": {
   "display_name": "Python 3 (ipykernel)",
   "language": "python",
   "name": "python3"
  },
  "language_info": {
   "codemirror_mode": {
    "name": "ipython",
    "version": 3
   },
   "file_extension": ".py",
   "mimetype": "text/x-python",
   "name": "python",
   "nbconvert_exporter": "python",
   "pygments_lexer": "ipython3",
   "version": "3.8.8"
  }
 },
 "nbformat": 4,
 "nbformat_minor": 1
}
